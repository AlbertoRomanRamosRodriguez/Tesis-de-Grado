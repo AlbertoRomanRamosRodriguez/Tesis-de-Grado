{
 "cells": [
  {
   "attachments": {},
   "cell_type": "markdown",
   "metadata": {},
   "source": [
    "# EDA RFMiD"
   ]
  },
  {
   "cell_type": "code",
   "execution_count": 3,
   "metadata": {},
   "outputs": [],
   "source": [
    "import pandas as pd\n",
    "import numpy as np\n",
    "import matplotlib.pyplot as plt\n",
    "import seaborn as sn\n",
    "\n",
    "import os\n",
    "import progressbar"
   ]
  },
  {
   "attachments": {},
   "cell_type": "markdown",
   "metadata": {},
   "source": [
    "## Getting Data"
   ]
  },
  {
   "cell_type": "code",
   "execution_count": 1,
   "metadata": {},
   "outputs": [],
   "source": [
    "RFMID_PATH = \"./Data/Raw/VariedDrAndres/Messidor/BD1\""
   ]
  },
  {
   "cell_type": "code",
   "execution_count": 2,
   "metadata": {},
   "outputs": [],
   "source": [
    "DB_PATH = './RAW_DATA'\n",
    "if os.path.exists(DB_PATH):\n",
    "    !rm -r {DB_PATH}\n",
    "    os.mkdir(DB_PATH)\n",
    "else:\n",
    "    os.mkdir(DB_PATH)"
   ]
  },
  {
   "cell_type": "code",
   "execution_count": 4,
   "metadata": {},
   "outputs": [],
   "source": [
    "def unzip_set(zipFile: str, outputPath: str = DB_PATH):\n",
    "    print(zipFile)\n",
    "    zipFile = os.path.sep.join([RFMID_PATH, zipFile])\n",
    "    !7z x {zipFile} -o{outputPath}"
   ]
  },
  {
   "cell_type": "code",
   "execution_count": 5,
   "metadata": {},
   "outputs": [
    {
     "name": "stdout",
     "output_type": "stream",
     "text": [
      "Base34.zip\n",
      "\n",
      "7-Zip [64] 16.02 : Copyright (c) 1999-2016 Igor Pavlov : 2016-05-21\n",
      "p7zip Version 16.02 (locale=en_US.UTF-8,Utf16=on,HugeFiles=on,64 bits,8 CPUs 11th Gen Intel(R) Core(TM) i5-11300H @ 3.10GHz (806C1),ASM,AES-NI)\n",
      "\n",
      "Scanning the drive for archives:\n",
      "  0M Scan ./Data/Raw/VariedDrAndres/Messidor/BD1                                                1 file, 427105132 bytes (408 MiB)\n",
      "\n",
      "Extracting archive: ./Data/Raw/VariedDrAndres/Messidor/BD1/Base34.zip\n",
      "--\n",
      "Path = ./Data/Raw/VariedDrAndres/Messidor/BD1/Base34.zip\n",
      "Type = zip\n",
      "Physical Size = 427105132\n",
      "\n",
      "      0% - 20051208_42322_0400_PP.ti                                  1% 1 - 20051208_42546_0400_PP.ti                                    2% 2 - 20051208_42552_0400_PP.ti                                    3% 2 - 20051208_42552_0400_PP.ti                                    3% 3 - 20051209_38404_0400_PP.ti                                    4% 4 - 20051212_36525_0400_PP.ti                                    6% 5 - 20051212_36548_0400_PP.ti                                    7% 7 - 20051212_36640_0400_PP.ti                                   10% 9 - 20051212_38000_0400_PP.ti                                   12% 11 - 20051212_38076_0400_PP.t                                   13% 12 - 20051212_38106_0400_PP.t                                   15% 15 - 20051212_40940_0400_PP.t                                   17% 16 - 20051212_41009_0400_PP.t                                   18% 17 - 20051212_41144_0400_PP.t                                   19% 19 - 20051212_41432_0400_PP.t                                   20% 19 - 20051212_41432_0400_PP.t                                   20% 2       21% 20 - 20051205_35408_0400_PP.t                                   21% 2       21% 21 - 20051205_35417_0400_PP.t                                   21% 2       25% 25 - 20051205_57704_0400_PP.t                                   28% 29 - 20051205_57799_0400_PP.t                                   32% 32 - 20051205_57879_0400_PP.t                                   33% 34 - 20051205_57988_0400_PP.t                                   34% 34 - 20051205_57988_0400_PP.t                                   35% 35 - 20051205_58010_0400_PP.t                                   36% 36 - 20051205_58037_0400_PP.t                                   36% 3       37% 37 - 20051205_58060_0400_PP.t                                   37% 3       37% 38 - 20051205_58080_0400_PP.t                                   40% 40 - 20051205_58109_0400_PP.t                                   43% 43 - 20051205_58177_0400_PP.t                                   47% 47 - 20051205_58431_0400_PP.t                                   50% 50 - 20051205_58577_0400_PP.t                                   54% 53 - 20051205_59300_0400_PP.t                                   57% 57 - 20051205_59379_0400_PP.t                                   61% 60 - 20051205_59617_0400_PP.t                                   64% 63 - 20051205_59715_0400_PP.t                                   68% 67 - 20051205_59833_0400_PP.t                                   71% 70 - 20051205_59901_0400_PP.t                                   74% 73 - 20051205_60119_0400_PP.t                                   78% 79 - 20051207_62266_0400_PP.t                                   82% 83 - 20051208_39254_0400_PP.t                                   85% 86 - 20051208_39438_0400_PP.t                                   89% 89 - 20051208_39498_0400_PP.t                                   92% 93 - 20051208_39572_0400_PP.t                                   94% 94 - 20051208_40972_0400_PP.t                                   96% 96 - 20051208_41373_0400_PP.t                                   98% 98 - 20051208_41707_0400_PP.t                                   99% 99 - 20051208_42314_0400_PP.t                                   99% 1      Everything is Ok\n",
      "\n",
      "Files: 101\n",
      "Size:       1017649560\n",
      "Compressed: 427105132\n",
      "Base23.zip\n",
      "\n",
      "7-Zip [64] 16.02 : Copyright (c) 1999-2016 Igor Pavlov : 2016-05-21\n",
      "p7zip Version 16.02 (locale=en_US.UTF-8,Utf16=on,HugeFiles=on,64 bits,8 CPUs 11th Gen Intel(R) Core(TM) i5-11300H @ 3.10GHz (806C1),ASM,AES-NI)\n",
      "\n",
      "Scanning the drive for archives:\n",
      "  0M Scan ./Data/Raw/VariedDrAndres/Messidor/BD1                                                1 file, 199365007 bytes (191 MiB)\n",
      "\n",
      "Extracting archive: ./Data/Raw/VariedDrAndres/Messidor/BD1/Base23.zip\n",
      "--\n",
      "Path = ./Data/Raw/VariedDrAndres/Messidor/BD1/Base23.zip\n",
      "Type = zip\n",
      "Physical Size = 199365007\n",
      "\n",
      "      2% 2 - 20060412_51656_0200_PP.ti                                    5% 5 - 20060412_51775_0200_PP.ti                                    8% 8 - 20060412_51932_0200_PP.ti                                   10% 10 - 20060412_52020_0200_PP.t                                   14% 14 - 20060412_52174_0200_PP.t                                   22% 22 - 20060411_57962_0200_PP.t                                   26% 26 - 20060411_58134_0200_PP.t                                   31% 31 - 20060411_58328_0200_PP.t                                   39% 39 - 20060411_58644_0200_PP.t                                   43% 43 - 20060411_58829_0200_PP.t                                   43% 4       45% 45 - 20060411_58913_0200_PP.t                                   46% 46 - 20060411_58971_0200_PP.t                                   46% 4       54% 54 - 20060411_59638_0200_PP.t                                   62% 62 - 20060411_60009_0200_PP.t                                   70% 70 - 20060411_60511_0200_PP.t                                   78% 78 - 20060411_61478_0200_PP.t                                   86% 86 - 20060411_61781_0200_PP.t                                   94% 94 - 20060411_62142_0200_PP.t                                  Everything is Ok\n",
      "\n",
      "Files: 101\n",
      "Size:       415545240\n",
      "Compressed: 199365007\n",
      "Base13.zip\n",
      "\n",
      "7-Zip [64] 16.02 : Copyright (c) 1999-2016 Igor Pavlov : 2016-05-21\n",
      "p7zip Version 16.02 (locale=en_US.UTF-8,Utf16=on,HugeFiles=on,64 bits,8 CPUs 11th Gen Intel(R) Core(TM) i5-11300H @ 3.10GHz (806C1),ASM,AES-NI)\n",
      "\n",
      "Scanning the drive for archives:\n",
      "  0M Scan ./Data/Raw/VariedDrAndres/Messidor/BD1                                                1 file, 386191096 bytes (369 MiB)\n",
      "\n",
      "Extracting archive: ./Data/Raw/VariedDrAndres/Messidor/BD1/Base13.zip\n",
      "--\n",
      "Path = ./Data/Raw/VariedDrAndres/Messidor/BD1/Base13.zip\n",
      "Type = zip\n",
      "Physical Size = 386191096\n",
      "\n",
      "      3% 4 - Base13/20051214_57761_0100_PP.t                                          6% 7 - Base13/20060522_43643_0100_PP.t                                          9% 10 - Base13/20060522_45111_0100_PP.ti                                            9% 1       10% 11 - Base13/20060522_45212_0100_PP.ti                                           10% 1       14% 15 - Base13/20060522_45541_0100_PP.ti                                           18% 19 - Base13/20060522_45777_0100_PP.ti                                           21% 22 - Base13/20060522_45873_0100_PP.ti                                           25% 26 - Base13/20060522_46149_0100_PP.ti                                           29% 30 - Base13/20060522_46454_0100_PP.ti                                           32% 33 - Base13/20060523_43038_0100_PP.ti                                           35% 36 - Base13/20060523_43174_0100_PP.ti                                           39% 40 - Base13/20060523_43333_0100_PP.ti                                           42% 43 - Base13/20060523_45235_0100_PP.ti                                           46% 47 - Base13/20060523_45389_0100_PP.ti                                           50% 51 - Base13/20060523_45548_0100_PP.ti                                           52% 53 - Base13/20060523_45697_0100_PP.ti                                           56% 57 - Base13/20060523_48005_0100_PP.ti                                           60% 61 - Base13/20060523_48161_0100_PP.ti                                           63% 64 - Base13/20060523_48357_0100_PP.ti                                           67% 68 - Base13/20060523_48499_0100_PP.ti                                           70% 71 - Base13/20060523_48643_0100_PP.ti                                           73% 74 - Base13/20060523_48728_0100_PP.ti                                           76% 77 - Base13/20060523_48890_0100_PP.ti                                           77% 78 - Base13/20060523_48931_0100_PP.ti                                           78% 79 - Base13/20060523_48990_0100_PP.ti                                           79% 80 - Base13/20060523_49010_0100_PP.ti                                           80% 81 - Base13/20060523_49100_0100_PP.ti                                           84% 85 - Base13/20060523_49269_0100_PP.ti                                           86% 87 - Base13/20060523_49449_0100_PP.ti                                           86% 8       87% 88 - Base13/20060523_49515_0100_PP.ti                                           87% 8       91% 92 - Base13/20060523_49681_0100_PP.ti                                           95% 96 - Base13/20060523_49809_0100_PP.ti                                           96% 97 - Base13/20060523_49859_0100_PP.ti                                           97% 98 - Base13/20060523_49875_0100_PP.ti                                           98% 99 - Base13/20060523_49928_0100_PP.ti                                           98% 1       99% 100 - Base13/20060523_49942_0100_PP.t                                          Everything is Ok\n",
      "\n",
      "Folders: 1\n",
      "Files: 101\n",
      "Size:       1001195928\n",
      "Compressed: 386191096\n",
      "Base11.zip\n",
      "\n",
      "7-Zip [64] 16.02 : Copyright (c) 1999-2016 Igor Pavlov : 2016-05-21\n",
      "p7zip Version 16.02 (locale=en_US.UTF-8,Utf16=on,HugeFiles=on,64 bits,8 CPUs 11th Gen Intel(R) Core(TM) i5-11300H @ 3.10GHz (806C1),ASM,AES-NI)\n",
      "\n",
      "Scanning the drive for archives:\n",
      "  0M Scan ./Data/Raw/VariedDrAndres/Messidor/BD1                                                1 file, 369718072 bytes (353 MiB)\n",
      "\n",
      "Extracting archive: ./Data/Raw/VariedDrAndres/Messidor/BD1/Base11.zip\n",
      "--\n",
      "Path = ./Data/Raw/VariedDrAndres/Messidor/BD1/Base11.zip\n",
      "Type = zip\n",
      "Physical Size = 369718072\n",
      "\n",
      "      0% 1 - Base11/20051019_38557_0100_PP.t                                          0%      4% 5 - Base11/20051020_43906_0100_PP.t                                          8% 9 - Base11/20051020_44349_0100_PP.t                                          9% 10 - Base11/20051020_44400_0100_PP.ti                                            9% 1       10% 11 - Base11/20051020_44431_0100_PP.ti                                           10% 1       14% 15 - Base11/20051020_44714_0100_PP.ti                                           17% 18 - Base11/20051020_44843_0100_PP.ti                                           21% 22 - Base11/20051020_45004_0100_PP.ti                                           24% 25 - Base11/20051020_45110_0100_PP.ti                                           27% 28 - Base11/20051020_53062_0100_PP.ti                                           31% 32 - Base11/20051020_55346_0100_PP.ti                                           35% 36 - Base11/20051020_57157_0100_PP.ti                                           38% 39 - Base11/20051020_57761_0100_PP.ti                                           41% 42 - Base11/20051020_58065_0100_PP.ti                                           44% 45 - Base11/20051020_61557_0100_PP.ti                                           48% 49 - Base11/20051020_61998_0100_PP.ti                                           52% 53 - Base11/20051020_62461_0100_PP.ti                                           54% 55 - Base11/20051020_62577_0100_PP.ti                                           55% 56 - Base11/20051020_62615_0100_PP.ti                                           55% 5       57% 58 - Base11/20051020_62802_0100_PP.ti                                           58% 59 - Base11/20051020_62878_0100_PP.ti                                           61% 62 - Base11/20051020_63269_0100_PP.ti                                           65% 66 - Base11/20051020_63936_0100_PP.ti                                           68% 69 - Base11/20051020_64388_0100_PP.ti                                           70% 71 - Base11/20051020_64570_0100_PP.ti                                           74% 75 - Base11/20051020_64836_0100_PP.ti                                           77% 78 - Base11/20051020_65166_0100_PP.ti                                           81% 82 - Base11/20051021_36380_0100_PP.ti                                           84% 85 - Base11/20051021_39314_0100_PP.ti                                           88% 89 - Base11/20051021_39719_0100_PP.ti                                           92% 93 - Base11/20051021_40074_0100_PP.ti                                           92% 9       96% 97 - Base11/20051021_40450_0100_PP.ti                                          Everything is Ok\n",
      "\n",
      "Folders: 1\n",
      "Files: 101\n",
      "Size:       1001195928\n",
      "Compressed: 369718072\n",
      "Base14.zip\n",
      "\n",
      "7-Zip [64] 16.02 : Copyright (c) 1999-2016 Igor Pavlov : 2016-05-21\n",
      "p7zip Version 16.02 (locale=en_US.UTF-8,Utf16=on,HugeFiles=on,64 bits,8 CPUs 11th Gen Intel(R) Core(TM) i5-11300H @ 3.10GHz (806C1),ASM,AES-NI)\n",
      "\n",
      "Scanning the drive for archives:\n",
      "  0M Scan ./Data/Raw/VariedDrAndres/Messidor/BD1                                                1 file, 405896733 bytes (388 MiB)\n",
      "\n",
      "Extracting archive: ./Data/Raw/VariedDrAndres/Messidor/BD1/Base14.zip\n",
      "--\n",
      "Path = ./Data/Raw/VariedDrAndres/Messidor/BD1/Base14.zip\n",
      "Type = zip\n",
      "Physical Size = 405896733\n",
      "\n",
      "      4% 4 - 20060530_54632_0100_PP.ti                                    7% 7 - 20060530_55180_0100_PP.ti                                    7%      8% 8 - 20060530_55203_0100_PP.ti                                    8%     12% 12 - 20060530_55451_0100_PP.t                                   16% 16 - 20060530_55724_0100_PP.t                                   16% 1       17% 17 - 20060530_55746_0100_PP.t                                   20% 20 - 20060523_50003_0100_PP.t                                   24% 24 - 20060523_50234_0100_PP.t                                   24% 2       25% 25 - 20060523_50262_0100_PP.t                                   25% 2       27% 27 - 20060523_50342_0100_PP.t                                   31% 31 - 20060523_50489_0100_PP.t                                   33% 33 - 20060523_50556_0100_PP.t                                   33% 3       35% 35 - 20060523_50631_0100_PP.t                                   36% 36 - 20060523_50707_0100_PP.t                                   40% 40 - 20060529_56013_0100_PP.t                                   42% 42 - 20060529_56255_0100_PP.t                                   42% 4       43% 43 - 20060529_56338_0100_PP.t                                   44% 44 - 20060529_56420_0100_PP.t                                   47% 47 - 20060529_56592_0100_PP.t                                   51% 51 - 20060529_56853_0100_PP.t                                   52% 52 - 20060529_56948_0100_PP.t                                   55% 55 - 20060529_57063_0100_PP.t                                   59% 59 - 20060529_57287_0100_PP.t                                   60% 60 - 20060529_57351_0100_PP.t                                   60% 6       61% 61 - 20060529_57372_0100_PP.t                                   61% 6       62% 62 - 20060529_57430_0100_PP.t                                   62% 6       63% 63 - 20060529_57447_0100_PP.t                                   65% 65 - 20060530_36860_0100_PP.t                                   66% 66 - 20060530_36895_0100_PP.t                                   67% 67 - 20060530_51254_0100_PP.t                                   68% 68 - 20060530_51279_0100_PP.t                                   69% 69 - 20060530_51377_0100_PP.t                                   70% 70 - 20060530_51399_0100_PP.t                                   74% 74 - 20060530_53132_0100_PP.t                                   74% 7       77% 77 - 20060530_53271_0100_PP.t                                   77% 7       78% 78 - 20060530_53421_0100_PP.t                                   78% 7       80% 80 - 20060530_53522_0100_PP.t                                   82% 82 - 20060530_53597_0100_PP.t                                   86% 86 - 20060530_53761_0100_PP.t                                   90% 90 - 20060530_53954_0100_PP.t                                   94% 94 - 20060530_54117_0100_PP.t                                   95% 95 - 20060530_54223_0100_PP.t                                   95% 9       96% 96 - 20060530_54242_0100_PP.t                                   97% 97 - 20060530_54312_0100_PP.t                                   97% 9      Everything is Ok\n",
      "\n",
      "Files: 101\n",
      "Size:       1001183640\n",
      "Compressed: 405896733\n",
      "Base12.zip\n",
      "\n",
      "7-Zip [64] 16.02 : Copyright (c) 1999-2016 Igor Pavlov : 2016-05-21\n",
      "p7zip Version 16.02 (locale=en_US.UTF-8,Utf16=on,HugeFiles=on,64 bits,8 CPUs 11th Gen Intel(R) Core(TM) i5-11300H @ 3.10GHz (806C1),ASM,AES-NI)\n",
      "\n",
      "Scanning the drive for archives:\n",
      "  0M Scan ./Data/Raw/VariedDrAndres/Messidor/BD1                                                1 file, 399025865 bytes (381 MiB)\n",
      "\n",
      "Extracting archive: ./Data/Raw/VariedDrAndres/Messidor/BD1/Base12.zip\n",
      "--\n",
      "Path = ./Data/Raw/VariedDrAndres/Messidor/BD1/Base12.zip\n",
      "Type = zip\n",
      "Physical Size = 399025865\n",
      "\n",
      "      3% 3 - 20051214_52707_0100_PP.ti                                    4% 4 - 20051214_53168_0100_PP.ti                                    5% 5 - 20051214_56169_0100_PP.ti                                    5%      6% 6 - 20051214_56242_0100_PP.ti                                   10% 10 - 20051214_56534_0100_PP.t                                   14% 14 - 20051214_56778_0100_PP.t                                   16% 16 - 20051214_56944_0100_PP.t                                   16% 1       17% 17 - 20051214_56971_0100_PP.t                                   17% 1       21% 21 - 20051021_51625_0100_PP.t                                   25% 25 - 20051021_51994_0100_PP.t                                   26% 26 - 20051021_52075_0100_PP.t                                   26% 2       27% 27 - 20051021_52127_0100_PP.t                                   31% 31 - 20051021_58035_0100_PP.t                                   34% 34 - 20051021_58388_0100_PP.t                                   34% 3       36% 36 - 20051021_58683_0100_PP.t                                   37% 37 - 20051021_58802_0100_PP.t                                   41% 41 - 20051021_59504_0100_PP.t                                   45% 45 - 20051213_61892_0100_PP.t                                   47% 47 - 20051213_62046_0100_PP.t                                   47% 4       48% 48 - 20051213_62188_0100_PP.t                                   49% 49 - 20051213_62251_0100_PP.t                                   52% 52 - 20051213_62437_0100_PP.t                                   56% 56 - 20051213_62705_0100_PP.t                                   60% 60 - 20051214_40596_0100_PP.t                                   64% 64 - 20051214_40912_0100_PP.t                                   68% 68 - 20051214_41358_0100_PP.t                                   71% 71 - 20051214_41582_0100_PP.t                                   75% 75 - 20051214_42323_0100_PP.t                                   79% 79 - 20051214_50933_0100_PP.t                                   81% 81 - 20051214_51071_0100_PP.t                                   81% 8       82% 82 - 20051214_51178_0100_PP.t                                   82% 8       83% 83 - 20051214_51211_0100_PP.t                                   83% 8       87% 87 - 20051214_51469_0100_PP.t                                   91% 91 - 20051214_51733_0100_PP.t                                   94% 94 - 20051214_51921_0100_PP.t                                   98% 98 - 20051214_52242_0100_PP.t                                  Everything is Ok\n",
      "\n",
      "Files: 101\n",
      "Size:       1001183640\n",
      "Compressed: 399025865\n",
      "Base32.zip\n",
      "\n",
      "7-Zip [64] 16.02 : Copyright (c) 1999-2016 Igor Pavlov : 2016-05-21\n",
      "p7zip Version 16.02 (locale=en_US.UTF-8,Utf16=on,HugeFiles=on,64 bits,8 CPUs 11th Gen Intel(R) Core(TM) i5-11300H @ 3.10GHz (806C1),ASM,AES-NI)\n",
      "\n",
      "Scanning the drive for archives:\n",
      "  0M Scan ./Data/Raw/VariedDrAndres/Messidor/BD1                                                1 file, 369678362 bytes (353 MiB)\n",
      "\n",
      "Extracting archive: ./Data/Raw/VariedDrAndres/Messidor/BD1/Base32.zip\n",
      "--\n",
      "Path = ./Data/Raw/VariedDrAndres/Messidor/BD1/Base32.zip\n",
      "Type = zip\n",
      "Physical Size = 369678362\n",
      "\n",
      "      3% 2 - 20051201_38137_0400_PP.ti                                    6% 5 - 20051201_38182_0400_PP.ti                                    9% 7 - 20051201_38211_0400_PP.ti                                   11% 9 - 20051201_38262_0400_PP.ti                                   13% 10 - 20051201_38280_0400_PP.t                                   15% 12 - 20051201_38321_0400_PP.t                                   16% 13 - 20051201_38349_0400_PP.t                                   18% 15 - 20051201_38466_0400_PP.t                                   19% 16 - 20051130_54257_0400_PP.t                                   19% 17 - 20051130_54301_0400_PP.t                                   20% 17 - 20051130_54301_0400_PP.t                                   20% 1       20% 18 - 20051130_54323_0400_PP.t                                   20% 1       24% 27 - 20051130_54846_0400_PP.t                                   29% 36 - 20051130_55107_0400_PP.t                                   33% 44 - 20051130_58716_0400_PP.t                                   34% 45 - 20051130_58824_0400_PP.t                                   35% 46 - 20051130_58874_0400_PP.t                                   36% 47 - 20051130_58888_0400_PP.t                                   38% 49 - 20051130_58962_0400_PP.t                                   39% 49 - 20051130_58962_0400_PP.t                                   39% 5       41% 51 - 20051130_59029_0400_PP.t                                   43% 53 - 20051130_59186_0400_PP.t                                   47% 56 - 20051130_59404_0400_PP.t                                   51% 59 - 20051130_59464_0400_PP.t                                   51% 6       52% 60 - 20051130_59749_0400_PP.t                                   52% 6       56% 64 - 20051130_59825_0400_PP.t                                   60% 67 - 20051130_59916_0400_PP.t                                   64% 70 - 20051130_59993_0400_PP.t                                   65% 70 - 20051130_59993_0400_PP.t                                   65% 71 - 20051130_60040_0400_PP.t                                   66% 71 - 20051130_60040_0400_PP.t                                   66% 72 - 20051130_60066_0400_PP.t                                   69% 75 - 20051130_60234_0400_PP.t                                   73% 78 - 20051130_60532_0400_PP.t                                   74% 79 - 20051130_60562_0400_PP.t                                   75% 79 - 20051130_60562_0400_PP.t                                   76% 80 - 20051130_60585_0400_PP.t                                   77% 80 - 20051130_60585_0400_PP.t                                   77% 81 - 20051130_60601_0400_PP.t                                   78% 81 - 20051130_60601_0400_PP.t                                   79% 83 - 20051130_60658_0400_PP.t                                   82% 85 - 20051130_60715_0400_PP.t                                   86% 88 - 20051130_60794_0400_PP.t                                   90% 91 - 20051201_37337_0400_PP.t                                   90% 92 - 20051201_37362_0400_PP.t                                   91% 92 - 20051201_37362_0400_PP.t                                   91% 9       92% 93 - 20051201_37382_0400_PP.t                                   92% 9       96% 97 - 20051201_37534_0400_PP.t                                  Everything is Ok\n",
      "\n",
      "Files: 101\n",
      "Size:       881690520\n",
      "Compressed: 369678362\n",
      "Base22.zip\n",
      "\n",
      "7-Zip [64] 16.02 : Copyright (c) 1999-2016 Igor Pavlov : 2016-05-21\n",
      "p7zip Version 16.02 (locale=en_US.UTF-8,Utf16=on,HugeFiles=on,64 bits,8 CPUs 11th Gen Intel(R) Core(TM) i5-11300H @ 3.10GHz (806C1),ASM,AES-NI)\n",
      "\n",
      "Scanning the drive for archives:\n",
      "  0M Scan ./Data/Raw/VariedDrAndres/Messidor/BD1                                                1 file, 203509469 bytes (195 MiB)\n",
      "\n",
      "Extracting archive: ./Data/Raw/VariedDrAndres/Messidor/BD1/Base22.zip\n",
      "--\n",
      "Path = ./Data/Raw/VariedDrAndres/Messidor/BD1/Base22.zip\n",
      "Type = zip\n",
      "Physical Size = 203509469\n",
      "\n",
      "      5% 5 - 20060410_44601_0200_PP.ti                                    5%      6% 6 - 20060410_44623_0200_PP.ti                                    7% 7 - 20060410_44770_0200_PP.ti                                    9% 9 - 20060410_44934_0200_PP.ti                                   17% 17 - 20060410_47166_0200_PP.t                                   25% 25 - 20060407_44866_0200_PP.t                                   28% 28 - 20060407_45107_0200_PP.t                                   28% 2       29% 29 - 20060407_45230_0200_PP.t                                   30% 30 - 20060407_45247_0200_PP.t                                   30% 3       38% 38 - 20060407_45737_0200_PP.t                                   46% 47 - 20060407_46394_0200_PP.t                                   53% 53 - 20060410_39334_0200_PP.t                                   54% 54 - 20060410_39355_0200_PP.t                                   59% 59 - 20060410_39695_0200_PP.t                                   67% 67 - 20060410_40254_0200_PP.t                                   75% 75 - 20060410_40830_0200_PP.t                                   77% 77 - 20060410_40953_0200_PP.t                                   77% 7       78% 78 - 20060410_40979_0200_PP.t                                   78% 7       79% 79 - 20060410_41077_0200_PP.t                                   80% 80 - 20060410_41098_0200_PP.t                                   80% 8       81% 81 - 20060410_41191_0200_PP.t                                   81% 8       89% 89 - 20060410_41880_0200_PP.t                                   97% 97 - 20060410_44106_0200_PP.t                                  Everything is Ok\n",
      "\n",
      "Files: 101\n",
      "Size:       415545240\n",
      "Compressed: 203509469\n",
      "Base33.zip\n",
      "\n",
      "7-Zip [64] 16.02 : Copyright (c) 1999-2016 Igor Pavlov : 2016-05-21\n",
      "p7zip Version 16.02 (locale=en_US.UTF-8,Utf16=on,HugeFiles=on,64 bits,8 CPUs 11th Gen Intel(R) Core(TM) i5-11300H @ 3.10GHz (806C1),ASM,AES-NI)\n",
      "\n",
      "Scanning the drive for archives:\n",
      "  0M Scan ./Data/Raw/VariedDrAndres/Messidor/BD1                                                1 file, 226148112 bytes (216 MiB)\n",
      "\n",
      "Extracting archive: ./Data/Raw/VariedDrAndres/Messidor/BD1/Base33.zip\n",
      "--\n",
      "Path = ./Data/Raw/VariedDrAndres/Messidor/BD1/Base33.zip\n",
      "Type = zip\n",
      "Physical Size = 226148112\n",
      "\n",
      "      6% 9 - 20051205_35276_0400_PP.ti                                   13% 16 - 20051201_38506_0400_PP.t                                   19% 20 - 20051202_37011_0400_PP.t                                   24% 23 - 20051202_37227_0400_PP.t                                   28% 24 - 20051202_37349_0400_PP.t                                   30% 26 - 20051202_39630_0400_PP.t                                   32% 27 - 20051202_39708_0400_PP.t                                   35% 29 - 20051202_40508_0400_PP.t                                   36% 29 - 20051202_40508_0400_PP.t                                   36% 30 - 20051202_41034_0400_PP.t                                   36% 3       37% 31 - 20051202_41076_0400_PP.t                                   37% 3       37% 32 - 20051202_41143_0400_PP.t                                   38% 32 - 20051202_41143_0400_PP.t                                   38% 33 - 20051202_41238_0400_PP.t                                   38% 3       45% 43 - 20051202_48575_0400_PP.t                                   51% 47 - 20051202_51574_0400_PP.t                                   57% 51 - 20051202_51677_0400_PP.t                                   59% 52 - 20051202_54197_0400_PP.t                                   60% 52 - 20051202_54197_0400_PP.t                                   60% 5       61% 53 - 20051202_54208_0400_PP.t                                   67% 61 - 20051202_54744_0400_PP.t                                   74% 70 - 20051202_55626_0400_PP.t                                   75% 72 - 20051202_55669_0400_PP.t                                   76% 74 - 20051202_55735_0400_PP.t                                   77% 75 - 20051202_55742_0400_PP.t                                   77% 7       84% 85 - 20051202_55944_0400_PP.t                                   89% 92 - 20051205_31388_0400_PP.t                                   90% 92 - 20051205_31388_0400_PP.t                                   90% 9       94% 94 - 20051205_31934_0400_PP.t                                  Everything is Ok\n",
      "\n",
      "Files: 101\n",
      "Size:       596823960\n",
      "Compressed: 226148112\n",
      "Base24.zip\n",
      "\n",
      "7-Zip [64] 16.02 : Copyright (c) 1999-2016 Igor Pavlov : 2016-05-21\n",
      "p7zip Version 16.02 (locale=en_US.UTF-8,Utf16=on,HugeFiles=on,64 bits,8 CPUs 11th Gen Intel(R) Core(TM) i5-11300H @ 3.10GHz (806C1),ASM,AES-NI)\n",
      "\n",
      "Scanning the drive for archives:\n",
      "  0M Scan ./Data/Raw/VariedDrAndres/Messidor/BD1                                                1 file, 200869297 bytes (192 MiB)\n",
      "\n",
      "Extracting archive: ./Data/Raw/VariedDrAndres/Messidor/BD1/Base24.zip\n",
      "--\n",
      "Path = ./Data/Raw/VariedDrAndres/Messidor/BD1/Base24.zip\n",
      "Type = zip\n",
      "Physical Size = 200869297\n",
      "\n",
      "      8% 8 - 20060412_61501_0200_PP.ti                                   16% 16 - 20060412_62936_0200_PP.t                                   22% 22 - 20060412_52446_0200_PP.t                                   26% 26 - 20060412_52606_0200_PP.t                                   34% 34 - 20060412_52931_0200_PP.t                                   42% 42 - 20060412_57952_0200_PP.t                                   47% 47 - 20060412_58171_0200_PP.t                                   48% 48 - 20060412_58287_0200_PP.t                                   48% 4       49% 49 - 20060412_58314_0200_PP.t                                   50% 50 - 20060412_58368_0200_PP.t                                   55% 55 - 20060412_58563_0200_PP.t                                   63% 63 - 20060412_58889_0200_PP.t                                   69% 69 - 20060412_59124_0200_PP.t                                   69% 7       70% 70 - 20060412_59175_0200_PP.t                                   71% 71 - 20060412_59196_0200_PP.t                                   75% 75 - 20060412_59355_0200_PP.t                                   83% 83 - 20060412_60396_0200_PP.t                                   88% 88 - 20060412_60751_0200_PP.t                                   89% 89 - 20060412_60773_0200_PP.t                                   91% 91 - 20060412_60845_0200_PP.t                                   91% 9       92% 92 - 20060412_60895_0200_PP.t                                   96% 96 - 20060412_61064_0200_PP.t                                  Everything is Ok\n",
      "\n",
      "Files: 101\n",
      "Size:       415545240\n",
      "Compressed: 200869297\n",
      "Base31.zip\n",
      "\n",
      "7-Zip [64] 16.02 : Copyright (c) 1999-2016 Igor Pavlov : 2016-05-21\n",
      "p7zip Version 16.02 (locale=en_US.UTF-8,Utf16=on,HugeFiles=on,64 bits,8 CPUs 11th Gen Intel(R) Core(TM) i5-11300H @ 3.10GHz (806C1),ASM,AES-NI)\n",
      "\n",
      "Scanning the drive for archives:\n",
      "  0M Scan ./Data/Raw/VariedDrAndres/Messidor/BD1                                                1 file, 210890521 bytes (202 MiB)\n",
      "\n",
      "Extracting archive: ./Data/Raw/VariedDrAndres/Messidor/BD1/Base31.zip\n",
      "--\n",
      "Path = ./Data/Raw/VariedDrAndres/Messidor/BD1/Base31.zip\n",
      "Type = zip\n",
      "Physical Size = 210890521\n",
      "\n",
      "      7% 9 - 20051110_34013_0400_PP.ti                                    9% 12 - 20051110_35239_0400_PP.t                                   10% 12 - 20051110_35239_0400_PP.t                                   11% 15 - 20051110_35926_0400_PP.t                                   12% 15 - 20051110_35926_0400_PP.t                                   12% 16 - 20051110_37992_0400_PP.t                                   13% 17 - 20051110_38111_0400_PP.t                                   13% 1       14% 18 - 20051110_38156_0400_PP.t                                   14% 19 - 20051110_38194_0400_PP.t                                   15% 19 - 20051110_38194_0400_PP.t                                   15% 20 - 20051110_38239_0400_PP.t                                   16% 21 - 20051110_38280_0400_PP.t                                   18% 23 - 20051110_38352_0400_PP.t                                   25% 32 - 20051116_43585_0400_PP.t                                   32% 41 - 20051116_44051_0400_PP.t                                   39% 47 - 20051116_44615_0400_PP.t                                   45% 50 - 20051116_44718_0400_PP.t                                   52% 53 - 20051116_44804_0400_PP.t                                   58% 60 - 20051116_54642_0400_PP.t                                   65% 67 - 20051116_55573_0400_PP.t                                   68% 69 - 20051116_55617_0400_PP.t                                   69% 69 - 20051116_55617_0400_PP.t                                   71% 70 - 20051116_55643_0400_PP.t                                   77% 75 - 20051116_58828_0400_PP.t                                   82% 80 - 20051116_59150_0400_PP.t                                   82% 8       83% 81 - 20051116_59168_0400_PP.t                                   85% 82 - 20051116_59193_0400_PP.t                                   86% 82 - 20051116_59193_0400_PP.t                                   92% 90 - 20051117_37213_0400_PP.t                                   99% 99 - 20051130_54121_0400_PP.t                                  Everything is Ok\n",
      "\n",
      "Files: 101\n",
      "Size:       538558360\n",
      "Compressed: 210890521\n",
      "Base21.zip\n",
      "\n",
      "7-Zip [64] 16.02 : Copyright (c) 1999-2016 Igor Pavlov : 2016-05-21\n",
      "p7zip Version 16.02 (locale=en_US.UTF-8,Utf16=on,HugeFiles=on,64 bits,8 CPUs 11th Gen Intel(R) Core(TM) i5-11300H @ 3.10GHz (806C1),ASM,AES-NI)\n",
      "\n",
      "Scanning the drive for archives:\n",
      "  0M Scan ./Data/Raw/VariedDrAndres/Messidor/BD1                                                1 file, 206981818 bytes (198 MiB)\n",
      "\n",
      "Extracting archive: ./Data/Raw/VariedDrAndres/Messidor/BD1/Base21.zip\n",
      "--\n",
      "Path = ./Data/Raw/VariedDrAndres/Messidor/BD1/Base21.zip\n",
      "Type = zip\n",
      "Physical Size = 206981818\n",
      "\n",
      "      0% - 20060407_41937_0200_PP.ti                                  1% 1 - 20060407_41980_0200_PP.ti                                    2% 2 - 20060407_42099_0200_PP.ti                                    2%      4% 4 - 20060407_42290_0200_PP.ti                                   11% 11 - 20060407_43618_0200_PP.t                                   19% 19 - 20060407_44192_0200_PP.t                                   22% 22 - 20060407_44400_0200_PP.t                                   22% 2       23% 23 - 20060407_44422_0200_PP.t                                   24% 24 - 20060407_44510_0200_PP.t                                   24% 2       25% 25 - 20060407_44529_0200_PP.t                                   26% 26 - 20060407_44617_0200_PP.t                                   26% 2       27% 27 - 20060407_44636_0200_PP.t                                   28% 28 - 20060407_44743_0200_PP.t                                   31% 31 - 20051216_44066_0200_PP.t                                   39% 39 - 20051216_44811_0200_PP.t                                   47% 47 - 20051216_45351_0200_PP.t                                   54% 54 - 20051216_45781_0200_PP.t                                   62% 62 - 20051216_46660_0200_PP.t                                   70% 70 - 20051216_47536_0200_PP.t                                   78% 78 - 20060407_39306_0200_PP.t                                   86% 86 - 20060407_39761_0200_PP.t                                   94% 94 - 20060407_41149_0200_PP.t                                   94% 9       97% 97 - 20060407_41330_0200_PP.t                                  Everything is Ok\n",
      "\n",
      "Files: 101\n",
      "Size:       415545240\n",
      "Compressed: 206981818\n"
     ]
    },
    {
     "data": {
      "text/plain": [
       "[None, None, None, None, None, None, None, None, None, None, None, None]"
      ]
     },
     "execution_count": 5,
     "metadata": {},
     "output_type": "execute_result"
    }
   ],
   "source": [
    "[unzip_set(z) for z in os.listdir(RFMID_PATH) if '.zip' in z]"
   ]
  },
  {
   "cell_type": "code",
   "execution_count": null,
   "metadata": {},
   "outputs": [],
   "source": [
    "!mv ./RAW_DATA/Base11/* ./RAW_DATA"
   ]
  },
  {
   "cell_type": "code",
   "execution_count": 9,
   "metadata": {},
   "outputs": [],
   "source": [
    "!mv ./RAW_DATA/Base13/* ./RAW_DATA"
   ]
  },
  {
   "cell_type": "code",
   "execution_count": 10,
   "metadata": {},
   "outputs": [
    {
     "name": "stdout",
     "output_type": "stream",
     "text": [
      "rm: cannot remove './RAW_DATA/Base11': No such file or directory\n"
     ]
    }
   ],
   "source": [
    "\n",
    "!rm -r ./RAW_DATA/Base11\n",
    "!rm -r ./RAW_DATA/Base13\n"
   ]
  },
  {
   "cell_type": "code",
   "execution_count": 19,
   "metadata": {},
   "outputs": [],
   "source": [
    "for f in os.listdir(DB_PATH):\n",
    "    !mv {os.path.sep.join([DB_PATH, f])}/* {DB_PATH}\n",
    "    !rm -r {os.path.sep.join([DB_PATH, f])}"
   ]
  },
  {
   "attachments": {},
   "cell_type": "markdown",
   "metadata": {},
   "source": [
    "## Exploring the dataset"
   ]
  },
  {
   "cell_type": "code",
   "execution_count": 20,
   "metadata": {},
   "outputs": [],
   "source": [
    "csv_path = os.path.sep.join([DB_PATH, 'RFMiD_Training_Labels.csv'])\n",
    "training_df = pd.read_csv(csv_path)\n",
    "\n",
    "training_df.dropna(how='all', axis=0, inplace=True)\n",
    "\n",
    "# get ID + specified disease column\n",
    "dr_training_df = training_df.loc[:, training_df.columns.isin(['ID', 'DR'])]"
   ]
  },
  {
   "cell_type": "code",
   "execution_count": 21,
   "metadata": {},
   "outputs": [
    {
     "data": {
      "text/plain": [
       "DR\n",
       "0    1544\n",
       "1     376\n",
       "Name: ID, dtype: int64"
      ]
     },
     "execution_count": 21,
     "metadata": {},
     "output_type": "execute_result"
    }
   ],
   "source": [
    "dr_training_df.groupby('DR')['ID'].count()"
   ]
  },
  {
   "cell_type": "code",
   "execution_count": 22,
   "metadata": {},
   "outputs": [
    {
     "data": {
      "text/plain": [
       "DR\n",
       "0    376\n",
       "1    376\n",
       "Name: ID, dtype: int64"
      ]
     },
     "execution_count": 22,
     "metadata": {},
     "output_type": "execute_result"
    }
   ],
   "source": [
    "balanced = dr_training_df.groupby('DR').sample(376)\n",
    "\n",
    "balanced.groupby('DR')['ID'].count()"
   ]
  },
  {
   "cell_type": "code",
   "execution_count": 23,
   "metadata": {},
   "outputs": [],
   "source": [
    "DATASET_PATH = './DB'\n",
    "if os.path.exists(DATASET_PATH):\n",
    "    !rm -r {DATASET_PATH}\n",
    "    os.mkdir(DATASET_PATH)\n",
    "else:\n",
    "    os.mkdir(DATASET_PATH)"
   ]
  },
  {
   "attachments": {},
   "cell_type": "markdown",
   "metadata": {},
   "source": [
    "## Restructuring the dataset"
   ]
  },
  {
   "cell_type": "code",
   "execution_count": 24,
   "metadata": {},
   "outputs": [
    {
     "name": "stderr",
     "output_type": "stream",
     "text": [
      "Building Dataset Training/0: 100% |#############################| Time: 0:00:00\n",
      "Building Dataset Training/1: 100% |#############################| Time: 0:00:00\n"
     ]
    }
   ],
   "source": [
    "dir_structure = {f'{i}':list(balanced.loc[balanced['DR'] == i].pop(\"ID\")) for i in range(2)}\n",
    "\n",
    "for k in dir_structure.keys():\n",
    "        set_path = os.path.sep.join([DATASET_PATH, 'Training'])\n",
    "\n",
    "        if not os.path.exists(set_path):\n",
    "            os.mkdir(set_path)\n",
    "\n",
    "        class_path = os.path.sep.join([set_path, k])\n",
    "\n",
    "        if not os.path.exists(class_path):\n",
    "            os.mkdir(class_path)\n",
    "        \n",
    "        widgets = [\n",
    "            f\"Building Dataset {'Training'}/{k}: \",\n",
    "            progressbar.Percentage(),\n",
    "            \" \",\n",
    "            progressbar.Bar(),\n",
    "            \" \",\n",
    "            progressbar.ETA()\n",
    "        ]\n",
    "\n",
    "        \n",
    "        for i, v in enumerate(dir_structure[k]):\n",
    "\n",
    "\n",
    "            pbar = progressbar.ProgressBar(\n",
    "                maxval=len(dir_structure[k]),\n",
    "                widgets=widgets\n",
    "            ).start()\n",
    "\n",
    "            destination = os.path.sep.join([class_path, f'{v}.png'])\n",
    "            origin = os.path.sep.join([DB_PATH, 'Training', f'{v}.png'])\n",
    "            !mv {origin} {destination}\n",
    "\n",
    "            pbar.update(i)\n",
    "\n",
    "        pbar.finish()"
   ]
  },
  {
   "cell_type": "code",
   "execution_count": 25,
   "metadata": {},
   "outputs": [],
   "source": [
    "def restructure_set(csv_file: str, folder: str, column: str):\n",
    "\n",
    "    df_columns = [\"ID\"]\n",
    "    df_columns.append(column)\n",
    "\n",
    "    # read csv file from the DB path\n",
    "    csv_path = os.path.sep.join([DB_PATH, csv_file])\n",
    "    df = pd.read_csv(csv_path)\n",
    "    \n",
    "    df.dropna(how='all', axis=0, inplace=True)\n",
    "\n",
    "    # get ID + specified disease column\n",
    "    dr_df = df.loc[:, df.columns.isin(['ID', 'DR'])]\n",
    "    \n",
    "    # dictionary column:[ID]\n",
    "    dir_structure = {f'{i}':list(dr_df.loc[dr_df[column] == i].pop(\"ID\")) for i in range(2)}\n",
    "\n",
    "    # creating a folder named as {column} containing all files in [ID]\n",
    "    for k in dir_structure.keys():\n",
    "        set_path = os.path.sep.join([DATASET_PATH, folder])\n",
    "\n",
    "        if not os.path.exists(set_path):\n",
    "            os.mkdir(set_path)\n",
    "\n",
    "        class_path = os.path.sep.join([set_path, k])\n",
    "\n",
    "        if not os.path.exists(class_path):\n",
    "            os.mkdir(class_path)\n",
    "        \n",
    "        widgets = [\n",
    "            f\"Building Dataset {folder}/{k}: \",\n",
    "            progressbar.Percentage(),\n",
    "            \" \",\n",
    "            progressbar.Bar(),\n",
    "            \" \",\n",
    "            progressbar.ETA()\n",
    "        ]\n",
    "\n",
    "        \n",
    "        for i, v in enumerate(dir_structure[k]):\n",
    "\n",
    "\n",
    "            pbar = progressbar.ProgressBar(\n",
    "                maxval=len(dir_structure[k]),\n",
    "                widgets=widgets\n",
    "            ).start()\n",
    "\n",
    "            destination = os.path.sep.join([class_path, f'{v}.png'])\n",
    "            origin = os.path.sep.join([DB_PATH, folder, f'{v}.png'])\n",
    "            !mv {origin} {destination}\n",
    "\n",
    "            pbar.update(i)\n",
    "\n",
    "        pbar.finish()"
   ]
  },
  {
   "cell_type": "code",
   "execution_count": 26,
   "metadata": {},
   "outputs": [
    {
     "name": "stderr",
     "output_type": "stream",
     "text": [
      "Building Dataset Validation/0: 100% |###########################| Time: 0:00:00\n",
      "Building Dataset Validation/1: 100% |###########################| Time: 0:00:00\n",
      "Building Dataset Test/0: 100% |#################################| Time: 0:00:00\n",
      "Building Dataset Test/1: 100% |#################################| Time: 0:00:00\n"
     ]
    }
   ],
   "source": [
    "not_training = [f for f in os.listdir(DB_PATH) if 'Training' not in f]\n",
    "csv_files = [f for f in not_training if '.csv' in f]\n",
    "folders = [f for f in not_training if f not in csv_files]\n",
    "\n",
    "for csv in csv_files:\n",
    "    for f in folders:\n",
    "        if f in csv: # folder name is included in csv filename, which means folder and csv file match\n",
    "            restructure_set(csv, f, 'DR')"
   ]
  }
 ],
 "metadata": {
  "kernelspec": {
   "display_name": "tesisDL",
   "language": "python",
   "name": "python3"
  },
  "language_info": {
   "codemirror_mode": {
    "name": "ipython",
    "version": 3
   },
   "file_extension": ".py",
   "mimetype": "text/x-python",
   "name": "python",
   "nbconvert_exporter": "python",
   "pygments_lexer": "ipython3",
   "version": "3.10.8 | packaged by conda-forge | (main, Nov 22 2022, 08:26:04) [GCC 10.4.0]"
  },
  "orig_nbformat": 4,
  "vscode": {
   "interpreter": {
    "hash": "66e04bfc85808da2e18bbbef2b64a6be2d087de19c3aa024c126ff1bcb5631ba"
   }
  }
 },
 "nbformat": 4,
 "nbformat_minor": 2
}
