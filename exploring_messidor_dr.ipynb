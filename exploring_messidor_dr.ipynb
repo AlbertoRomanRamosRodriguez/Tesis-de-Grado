{
 "cells": [
  {
   "attachments": {},
   "cell_type": "markdown",
   "metadata": {},
   "source": [
    "# EDA MESSIDOR MACULAR EDEMA"
   ]
  },
  {
   "cell_type": "code",
   "execution_count": 17,
   "metadata": {},
   "outputs": [],
   "source": [
    "%matplotlib inline\n",
    "\n",
    "from shutil import copy, move, rmtree, unpack_archive\n",
    "from sklearn.model_selection import train_test_split\n",
    "\n",
    "import pandas as pd\n",
    "import numpy as np\n",
    "import matplotlib.pyplot as plt\n",
    "import seaborn as sn\n",
    "\n",
    "import os\n",
    "import progressbar"
   ]
  },
  {
   "attachments": {},
   "cell_type": "markdown",
   "metadata": {},
   "source": [
    "## Getting Data"
   ]
  },
  {
   "cell_type": "code",
   "execution_count": 18,
   "metadata": {},
   "outputs": [],
   "source": [
    "MESSIDOR_PATH = \"Data/BD1\""
   ]
  },
  {
   "cell_type": "code",
   "execution_count": 19,
   "metadata": {},
   "outputs": [],
   "source": [
    "DB_PATH = 'DB'\n",
    "if os.path.exists(DB_PATH):\n",
    "    rmtree(DB_PATH)\n",
    "os.mkdir(DB_PATH)"
   ]
  },
  {
   "cell_type": "code",
   "execution_count": 20,
   "metadata": {},
   "outputs": [],
   "source": [
    "def unzip_set(i:int, zipFile: str, outputPath: str = DB_PATH):\n",
    "    print(f'{i}-{zipFile}')\n",
    "    zipFile = os.path.sep.join([MESSIDOR_PATH, zipFile])\n",
    "    unpack_archive(zipFile, outputPath)"
   ]
  },
  {
   "cell_type": "code",
   "execution_count": 21,
   "metadata": {},
   "outputs": [
    {
     "name": "stdout",
     "output_type": "stream",
     "text": [
      "1-Base21.zip\n",
      "2-Base12.zip\n",
      "3-Base24.zip\n",
      "4-Base23.zip\n",
      "5-Base31.zip\n",
      "6-Base14.zip\n",
      "7-Base32.zip\n",
      "8-Base34.zip\n",
      "9-Base11.zip\n",
      "10-Base13.zip\n",
      "11-Base22.zip\n",
      "12-Base33.zip\n"
     ]
    }
   ],
   "source": [
    "zipfiles = [z for z in os.listdir(MESSIDOR_PATH) if '.zip' in z]\n",
    "\n",
    "for i, zf in enumerate(zipfiles):\n",
    "    unzip_set(i=i+1,zipFile=zf)"
   ]
  },
  {
   "cell_type": "code",
   "execution_count": 22,
   "metadata": {},
   "outputs": [
    {
     "name": "stdout",
     "output_type": "stream",
     "text": [
      "DB/Base11 contents have been moved to DB\n",
      "DB/Base13 contents have been moved to DB\n"
     ]
    }
   ],
   "source": [
    "folders = ['DB/Base11', 'DB/Base13']\n",
    "\n",
    "for f in folders:\n",
    "    try:\n",
    "        image_paths = os.listdir(f)\n",
    "        image_paths = [os.path.sep.join([f, img]) for img in image_paths]\n",
    "        \n",
    "        [move(img, DB_PATH) for img in image_paths]\n",
    "        if os.path.exists(f):\n",
    "            rmtree(f)\n",
    "    except FileNotFoundError:\n",
    "        print(\"Files were already dealt with\")\n",
    "        break\n",
    "    else:\n",
    "        print(f\"{f} contents have been moved to {DB_PATH}\")"
   ]
  },
  {
   "cell_type": "code",
   "execution_count": 23,
   "metadata": {},
   "outputs": [
    {
     "data": {
      "text/html": [
       "<div>\n",
       "<style scoped>\n",
       "    .dataframe tbody tr th:only-of-type {\n",
       "        vertical-align: middle;\n",
       "    }\n",
       "\n",
       "    .dataframe tbody tr th {\n",
       "        vertical-align: top;\n",
       "    }\n",
       "\n",
       "    .dataframe thead th {\n",
       "        text-align: right;\n",
       "    }\n",
       "</style>\n",
       "<table border=\"1\" class=\"dataframe\">\n",
       "  <thead>\n",
       "    <tr style=\"text-align: right;\">\n",
       "      <th></th>\n",
       "      <th>Image name</th>\n",
       "      <th>Ophthalmologic department</th>\n",
       "      <th>Retinopathy grade</th>\n",
       "      <th>Risk of macular edema</th>\n",
       "    </tr>\n",
       "  </thead>\n",
       "  <tbody>\n",
       "    <tr>\n",
       "      <th>0</th>\n",
       "      <td>20060411_57879_0200_PP.tif</td>\n",
       "      <td>CHU de St Etienne</td>\n",
       "      <td>3</td>\n",
       "      <td>2</td>\n",
       "    </tr>\n",
       "    <tr>\n",
       "      <th>1</th>\n",
       "      <td>20060411_57962_0200_PP.tif</td>\n",
       "      <td>CHU de St Etienne</td>\n",
       "      <td>1</td>\n",
       "      <td>0</td>\n",
       "    </tr>\n",
       "    <tr>\n",
       "      <th>2</th>\n",
       "      <td>20060411_57986_0200_PP.tif</td>\n",
       "      <td>CHU de St Etienne</td>\n",
       "      <td>1</td>\n",
       "      <td>0</td>\n",
       "    </tr>\n",
       "    <tr>\n",
       "      <th>3</th>\n",
       "      <td>20060411_58051_0200_PP.tif</td>\n",
       "      <td>CHU de St Etienne</td>\n",
       "      <td>1</td>\n",
       "      <td>0</td>\n",
       "    </tr>\n",
       "    <tr>\n",
       "      <th>4</th>\n",
       "      <td>20060411_58071_0200_PP.tif</td>\n",
       "      <td>CHU de St Etienne</td>\n",
       "      <td>0</td>\n",
       "      <td>0</td>\n",
       "    </tr>\n",
       "    <tr>\n",
       "      <th>...</th>\n",
       "      <td>...</td>\n",
       "      <td>...</td>\n",
       "      <td>...</td>\n",
       "      <td>...</td>\n",
       "    </tr>\n",
       "    <tr>\n",
       "      <th>95</th>\n",
       "      <td>20051205_35305_0400_PP.tif</td>\n",
       "      <td>LaTIM - CHU de BREST</td>\n",
       "      <td>3</td>\n",
       "      <td>0</td>\n",
       "    </tr>\n",
       "    <tr>\n",
       "      <th>96</th>\n",
       "      <td>20051205_35323_0400_PP.tif</td>\n",
       "      <td>LaTIM - CHU de BREST</td>\n",
       "      <td>3</td>\n",
       "      <td>2</td>\n",
       "    </tr>\n",
       "    <tr>\n",
       "      <th>97</th>\n",
       "      <td>20051205_35339_0400_PP.tif</td>\n",
       "      <td>LaTIM - CHU de BREST</td>\n",
       "      <td>3</td>\n",
       "      <td>2</td>\n",
       "    </tr>\n",
       "    <tr>\n",
       "      <th>98</th>\n",
       "      <td>20051205_35354_0400_PP.tif</td>\n",
       "      <td>LaTIM - CHU de BREST</td>\n",
       "      <td>3</td>\n",
       "      <td>1</td>\n",
       "    </tr>\n",
       "    <tr>\n",
       "      <th>99</th>\n",
       "      <td>20051205_35392_0400_PP.tif</td>\n",
       "      <td>LaTIM - CHU de BREST</td>\n",
       "      <td>3</td>\n",
       "      <td>1</td>\n",
       "    </tr>\n",
       "  </tbody>\n",
       "</table>\n",
       "<p>1200 rows × 4 columns</p>\n",
       "</div>"
      ],
      "text/plain": [
       "                    Image name Ophthalmologic department  Retinopathy grade  \\\n",
       "0   20060411_57879_0200_PP.tif         CHU de St Etienne                  3   \n",
       "1   20060411_57962_0200_PP.tif         CHU de St Etienne                  1   \n",
       "2   20060411_57986_0200_PP.tif         CHU de St Etienne                  1   \n",
       "3   20060411_58051_0200_PP.tif         CHU de St Etienne                  1   \n",
       "4   20060411_58071_0200_PP.tif         CHU de St Etienne                  0   \n",
       "..                         ...                       ...                ...   \n",
       "95  20051205_35305_0400_PP.tif      LaTIM - CHU de BREST                  3   \n",
       "96  20051205_35323_0400_PP.tif      LaTIM - CHU de BREST                  3   \n",
       "97  20051205_35339_0400_PP.tif      LaTIM - CHU de BREST                  3   \n",
       "98  20051205_35354_0400_PP.tif      LaTIM - CHU de BREST                  3   \n",
       "99  20051205_35392_0400_PP.tif      LaTIM - CHU de BREST                  3   \n",
       "\n",
       "    Risk of macular edema   \n",
       "0                        2  \n",
       "1                        0  \n",
       "2                        0  \n",
       "3                        0  \n",
       "4                        0  \n",
       "..                     ...  \n",
       "95                       0  \n",
       "96                       2  \n",
       "97                       2  \n",
       "98                       1  \n",
       "99                       1  \n",
       "\n",
       "[1200 rows x 4 columns]"
      ]
     },
     "execution_count": 23,
     "metadata": {},
     "output_type": "execute_result"
    }
   ],
   "source": [
    "excel_files = [f for f in os.listdir(DB_PATH) if '.xls' in f]\n",
    "dataframes = []\n",
    "\n",
    "for xls_file in excel_files:\n",
    "    path = os.path.sep.join([DB_PATH, xls_file])\n",
    "    tmp_df = pd.read_excel(path)\n",
    "    \n",
    "    dataframes.append(tmp_df)\n",
    "\n",
    "orig_dataset = pd.concat(dataframes)\n",
    "orig_dataset.dropna(inplace=True)\n",
    "orig_dataset"
   ]
  },
  {
   "cell_type": "code",
   "execution_count": 24,
   "metadata": {},
   "outputs": [
    {
     "data": {
      "text/plain": [
       "Index(['Image name', 'Ophthalmologic department', 'Retinopathy grade',\n",
       "       'Risk of macular edema '],\n",
       "      dtype='object')"
      ]
     },
     "execution_count": 24,
     "metadata": {},
     "output_type": "execute_result"
    }
   ],
   "source": [
    "columns = orig_dataset.columns\n",
    "columns"
   ]
  },
  {
   "cell_type": "code",
   "execution_count": 25,
   "metadata": {},
   "outputs": [
    {
     "data": {
      "text/html": [
       "<div>\n",
       "<style scoped>\n",
       "    .dataframe tbody tr th:only-of-type {\n",
       "        vertical-align: middle;\n",
       "    }\n",
       "\n",
       "    .dataframe tbody tr th {\n",
       "        vertical-align: top;\n",
       "    }\n",
       "\n",
       "    .dataframe thead th {\n",
       "        text-align: right;\n",
       "    }\n",
       "</style>\n",
       "<table border=\"1\" class=\"dataframe\">\n",
       "  <thead>\n",
       "    <tr style=\"text-align: right;\">\n",
       "      <th></th>\n",
       "      <th>Image name</th>\n",
       "      <th>Risk of macular edema</th>\n",
       "    </tr>\n",
       "  </thead>\n",
       "  <tbody>\n",
       "    <tr>\n",
       "      <th>0</th>\n",
       "      <td>20060411_57879_0200_PP.tif</td>\n",
       "      <td>2</td>\n",
       "    </tr>\n",
       "    <tr>\n",
       "      <th>1</th>\n",
       "      <td>20060411_57962_0200_PP.tif</td>\n",
       "      <td>0</td>\n",
       "    </tr>\n",
       "    <tr>\n",
       "      <th>2</th>\n",
       "      <td>20060411_57986_0200_PP.tif</td>\n",
       "      <td>0</td>\n",
       "    </tr>\n",
       "    <tr>\n",
       "      <th>3</th>\n",
       "      <td>20060411_58051_0200_PP.tif</td>\n",
       "      <td>0</td>\n",
       "    </tr>\n",
       "    <tr>\n",
       "      <th>4</th>\n",
       "      <td>20060411_58071_0200_PP.tif</td>\n",
       "      <td>0</td>\n",
       "    </tr>\n",
       "    <tr>\n",
       "      <th>...</th>\n",
       "      <td>...</td>\n",
       "      <td>...</td>\n",
       "    </tr>\n",
       "    <tr>\n",
       "      <th>95</th>\n",
       "      <td>20051205_35305_0400_PP.tif</td>\n",
       "      <td>0</td>\n",
       "    </tr>\n",
       "    <tr>\n",
       "      <th>96</th>\n",
       "      <td>20051205_35323_0400_PP.tif</td>\n",
       "      <td>2</td>\n",
       "    </tr>\n",
       "    <tr>\n",
       "      <th>97</th>\n",
       "      <td>20051205_35339_0400_PP.tif</td>\n",
       "      <td>2</td>\n",
       "    </tr>\n",
       "    <tr>\n",
       "      <th>98</th>\n",
       "      <td>20051205_35354_0400_PP.tif</td>\n",
       "      <td>1</td>\n",
       "    </tr>\n",
       "    <tr>\n",
       "      <th>99</th>\n",
       "      <td>20051205_35392_0400_PP.tif</td>\n",
       "      <td>1</td>\n",
       "    </tr>\n",
       "  </tbody>\n",
       "</table>\n",
       "<p>1200 rows × 2 columns</p>\n",
       "</div>"
      ],
      "text/plain": [
       "                    Image name  Risk of macular edema \n",
       "0   20060411_57879_0200_PP.tif                       2\n",
       "1   20060411_57962_0200_PP.tif                       0\n",
       "2   20060411_57986_0200_PP.tif                       0\n",
       "3   20060411_58051_0200_PP.tif                       0\n",
       "4   20060411_58071_0200_PP.tif                       0\n",
       "..                         ...                     ...\n",
       "95  20051205_35305_0400_PP.tif                       0\n",
       "96  20051205_35323_0400_PP.tif                       2\n",
       "97  20051205_35339_0400_PP.tif                       2\n",
       "98  20051205_35354_0400_PP.tif                       1\n",
       "99  20051205_35392_0400_PP.tif                       1\n",
       "\n",
       "[1200 rows x 2 columns]"
      ]
     },
     "execution_count": 25,
     "metadata": {},
     "output_type": "execute_result"
    }
   ],
   "source": [
    "orig_dataset.drop(columns=columns[1:-1], inplace=True)\n",
    "orig_dataset"
   ]
  },
  {
   "cell_type": "code",
   "execution_count": 26,
   "metadata": {},
   "outputs": [
    {
     "data": {
      "text/html": [
       "<div>\n",
       "<style scoped>\n",
       "    .dataframe tbody tr th:only-of-type {\n",
       "        vertical-align: middle;\n",
       "    }\n",
       "\n",
       "    .dataframe tbody tr th {\n",
       "        vertical-align: top;\n",
       "    }\n",
       "\n",
       "    .dataframe thead th {\n",
       "        text-align: right;\n",
       "    }\n",
       "</style>\n",
       "<table border=\"1\" class=\"dataframe\">\n",
       "  <thead>\n",
       "    <tr style=\"text-align: right;\">\n",
       "      <th></th>\n",
       "      <th>image</th>\n",
       "      <th>ME_Risk</th>\n",
       "    </tr>\n",
       "  </thead>\n",
       "  <tbody>\n",
       "    <tr>\n",
       "      <th>0</th>\n",
       "      <td>20060411_57879_0200_PP.tif</td>\n",
       "      <td>2</td>\n",
       "    </tr>\n",
       "    <tr>\n",
       "      <th>1</th>\n",
       "      <td>20060411_57962_0200_PP.tif</td>\n",
       "      <td>0</td>\n",
       "    </tr>\n",
       "    <tr>\n",
       "      <th>2</th>\n",
       "      <td>20060411_57986_0200_PP.tif</td>\n",
       "      <td>0</td>\n",
       "    </tr>\n",
       "    <tr>\n",
       "      <th>3</th>\n",
       "      <td>20060411_58051_0200_PP.tif</td>\n",
       "      <td>0</td>\n",
       "    </tr>\n",
       "    <tr>\n",
       "      <th>4</th>\n",
       "      <td>20060411_58071_0200_PP.tif</td>\n",
       "      <td>0</td>\n",
       "    </tr>\n",
       "    <tr>\n",
       "      <th>...</th>\n",
       "      <td>...</td>\n",
       "      <td>...</td>\n",
       "    </tr>\n",
       "    <tr>\n",
       "      <th>95</th>\n",
       "      <td>20051205_35305_0400_PP.tif</td>\n",
       "      <td>0</td>\n",
       "    </tr>\n",
       "    <tr>\n",
       "      <th>96</th>\n",
       "      <td>20051205_35323_0400_PP.tif</td>\n",
       "      <td>2</td>\n",
       "    </tr>\n",
       "    <tr>\n",
       "      <th>97</th>\n",
       "      <td>20051205_35339_0400_PP.tif</td>\n",
       "      <td>2</td>\n",
       "    </tr>\n",
       "    <tr>\n",
       "      <th>98</th>\n",
       "      <td>20051205_35354_0400_PP.tif</td>\n",
       "      <td>1</td>\n",
       "    </tr>\n",
       "    <tr>\n",
       "      <th>99</th>\n",
       "      <td>20051205_35392_0400_PP.tif</td>\n",
       "      <td>1</td>\n",
       "    </tr>\n",
       "  </tbody>\n",
       "</table>\n",
       "<p>1200 rows × 2 columns</p>\n",
       "</div>"
      ],
      "text/plain": [
       "                         image  ME_Risk\n",
       "0   20060411_57879_0200_PP.tif        2\n",
       "1   20060411_57962_0200_PP.tif        0\n",
       "2   20060411_57986_0200_PP.tif        0\n",
       "3   20060411_58051_0200_PP.tif        0\n",
       "4   20060411_58071_0200_PP.tif        0\n",
       "..                         ...      ...\n",
       "95  20051205_35305_0400_PP.tif        0\n",
       "96  20051205_35323_0400_PP.tif        2\n",
       "97  20051205_35339_0400_PP.tif        2\n",
       "98  20051205_35354_0400_PP.tif        1\n",
       "99  20051205_35392_0400_PP.tif        1\n",
       "\n",
       "[1200 rows x 2 columns]"
      ]
     },
     "execution_count": 26,
     "metadata": {},
     "output_type": "execute_result"
    }
   ],
   "source": [
    "orig_dataset.rename(\n",
    "    columns={\n",
    "        \"Image name\": \"image\",\n",
    "        \"Risk of macular edema \": \"ME_Risk\"\n",
    "    },\n",
    "    errors=\"raise\",\n",
    "    inplace=True\n",
    "    )\n",
    "orig_dataset"
   ]
  },
  {
   "cell_type": "code",
   "execution_count": 27,
   "metadata": {},
   "outputs": [
    {
     "data": {
      "text/plain": [
       "ME_Risk\n",
       "0    974\n",
       "1     75\n",
       "2    151\n",
       "Name: image, dtype: int64"
      ]
     },
     "metadata": {},
     "output_type": "display_data"
    },
    {
     "data": {
      "image/png": "[encoded data removed]",
      "text/plain": [
       "<Figure size 500x300 with 1 Axes>"
      ]
     },
     "metadata": {},
     "output_type": "display_data"
    },
    {
     "data": {
      "image/png": "[encoded data removed]",
      "text/plain": [
       "<Figure size 640x480 with 1 Axes>"
      ]
     },
     "metadata": {},
     "output_type": "display_data"
    }
   ],
   "source": [
    "display(orig_dataset.groupby('ME_Risk')['image'].count())\n",
    "\n",
    "dfp = orig_dataset.pivot_table(\n",
    "    index='ME_Risk',\n",
    "    aggfunc='size'\n",
    ")\n",
    "dfp.plot(\n",
    "    kind='bar',\n",
    "    figsize=(5,3),\n",
    "    rot=0\n",
    ")\n",
    "plt.show()\n",
    "\n",
    "classes = 3\n",
    "plt.pie([orig_dataset.loc[orig_dataset['ME_Risk'] == n].count()[0] for n in range(classes)], labels = range(classes), autopct='%.2f %%')\n",
    "plt.title(\"Risk of Macular Edema in the dataset in the dataset\")\n",
    "# img_path = os.path.sep.join([DB_PATH, 'distribution.png'])\n",
    "# plt.savefig(img_path)\n",
    "plt.show()"
   ]
  },
  {
   "cell_type": "code",
   "execution_count": 28,
   "metadata": {},
   "outputs": [
    {
     "data": {
      "text/plain": [
       "ME_Risk\n",
       "0    914\n",
       "1     15\n",
       "2     91\n",
       "Name: image, dtype: int64"
      ]
     },
     "metadata": {},
     "output_type": "display_data"
    }
   ],
   "source": [
    "dataset = orig_dataset.groupby(['ME_Risk']).sample(60)\n",
    "x_train, x_remain, y_train, y_remain = train_test_split(\n",
    "    dataset['image'],\n",
    "    dataset['ME_Risk'],\n",
    "    train_size=0.7,\n",
    "    test_size=0.3,\n",
    "    random_state=42\n",
    ")\n",
    "\n",
    "rest_df = orig_dataset.loc[~orig_dataset['image'].isin(dataset['image'])].dropna()\n",
    "\n",
    "display(rest_df.groupby('ME_Risk')['image'].count())"
   ]
  },
  {
   "cell_type": "code",
   "execution_count": 29,
   "metadata": {},
   "outputs": [],
   "source": [
    "train_df = pd.DataFrame()\n",
    "train_df['image'] = x_train\n",
    "train_df['ME_Risk'] = y_train\n",
    "\n",
    "remain_df = pd.DataFrame()\n",
    "remain_df['image'] = x_remain\n",
    "remain_df['ME_Risk'] = y_remain\n",
    "\n",
    "x_val, x_test, y_val, y_test = train_test_split(\n",
    "    remain_df['image'],\n",
    "    remain_df['ME_Risk'],\n",
    "    train_size=0.5,\n",
    "    test_size=0.5,\n",
    "    random_state=42\n",
    ")\n",
    "\n",
    "val_df = pd.DataFrame()\n",
    "val_df['image'] = x_val\n",
    "val_df['ME_Risk'] = y_val\n",
    "\n",
    "test_df = pd.DataFrame()\n",
    "test_df['image'] = x_test\n",
    "test_df['ME_Risk'] = y_test"
   ]
  },
  {
   "cell_type": "code",
   "execution_count": 30,
   "metadata": {},
   "outputs": [
    {
     "data": {
      "text/plain": [
       "ME_Risk\n",
       "0    42\n",
       "1    42\n",
       "2    41\n",
       "Name: image, dtype: int64"
      ]
     },
     "metadata": {},
     "output_type": "display_data"
    },
    {
     "data": {
      "text/plain": [
       "ME_Risk\n",
       "0    11\n",
       "1     7\n",
       "2     9\n",
       "Name: image, dtype: int64"
      ]
     },
     "metadata": {},
     "output_type": "display_data"
    },
    {
     "data": {
      "text/plain": [
       "ME_Risk\n",
       "0     7\n",
       "1    10\n",
       "2    10\n",
       "Name: image, dtype: int64"
      ]
     },
     "metadata": {},
     "output_type": "display_data"
    },
    {
     "data": {
      "image/png": "[encoded data removed]",
      "text/plain": [
       "<Figure size 640x480 with 1 Axes>"
      ]
     },
     "metadata": {},
     "output_type": "display_data"
    }
   ],
   "source": [
    "display(train_df.groupby(['ME_Risk'])['image'].count())\n",
    "display(val_df.groupby(['ME_Risk'])['image'].count())\n",
    "display(test_df.groupby(['ME_Risk'])['image'].count())\n",
    "plt.pie([train_df.loc[train_df['ME_Risk'] == n].count()[0] for n in range(classes)], labels = range(classes), autopct='%.2f %%')\n",
    "plt.title(\"Risk of macular edema in the train_df\")\n",
    "plt.show()\n",
    "# train_df.head()"
   ]
  },
  {
   "cell_type": "code",
   "execution_count": 31,
   "metadata": {},
   "outputs": [],
   "source": [
    "def create_path(base_dir:str, dir_name:str):\n",
    "    directory = os.path.sep.join([base_dir, dir_name])\n",
    "    \"\"\"\n",
    "    Creates a new directory if it doesn't exist already\n",
    "\n",
    "    - dir_name: path to directory\n",
    "    \"\"\"\n",
    "    if not os.path.exists(directory):\n",
    "        os.mkdir(directory)\n",
    "    else:\n",
    "        print(f'[INFO] {directory} already exists')\n",
    "    \n",
    "    return directory\n",
    "\n",
    "def display_df_dist(df: pd.DataFrame, df_name:str):\n",
    "    dfp = df.pivot_table(\n",
    "        index='ME_Risk',\n",
    "        aggfunc='size'\n",
    "    )\n",
    "    dfp.plot(\n",
    "        kind='bar',\n",
    "        figsize=(5,3),\n",
    "        rot=0\n",
    "    )\n",
    "    plt.title(f\"Risk of Macular Edema in the {df_name} dataset\")\n",
    "    plt.savefig(os.path.sep.join(['DB', f'{df_name}.png']))\n",
    "    plt.show()\n",
    "    df.head()\n",
    "\n",
    "def organize_set_imgs(df: pd.DataFrame, set_path:str):\n",
    "\n",
    "    # images divided by class dir\n",
    "    class_directories = {str(k):list(df['image'].loc[df['ME_Risk'] == k]) for k in range(classes)}\n",
    "    # display(class_directories)\n",
    "\n",
    "    for k,imgs in class_directories.items():\n",
    "        class_dir = create_path(set_path, k)\n",
    "\n",
    "        widgets = [\n",
    "            f'Building {set_path.split(os.path.sep)[-1]}/{k}:',\n",
    "            ' ',\n",
    "            progressbar.Percentage(),\n",
    "            ' ',\n",
    "            progressbar.Bar(),\n",
    "            ' ',\n",
    "            progressbar.Counter()\n",
    "        ]\n",
    "\n",
    "        pbar = progressbar.ProgressBar(widgets=widgets, maxval=len(imgs))\n",
    "        \n",
    "        pbar.start()\n",
    "\n",
    "        non_existent_imgs = 0\n",
    "\n",
    "        for i, img in enumerate(imgs):\n",
    "            im_origin = os.path.sep.join([DB_PATH, f'{img}'])\n",
    "            \n",
    "            try:\n",
    "                move(im_origin, class_dir)\n",
    "            except FileNotFoundError:\n",
    "                non_existent_imgs += 1\n",
    "                continue\n",
    "\n",
    "            pbar.update(i)\n",
    "        \n",
    "    pbar.finish()\n"
   ]
  },
  {
   "cell_type": "code",
   "execution_count": 32,
   "metadata": {},
   "outputs": [
    {
     "data": {
      "image/png": "[encoded data removed]",
      "text/plain": [
       "<Figure size 500x300 with 1 Axes>"
      ]
     },
     "metadata": {},
     "output_type": "display_data"
    },
    {
     "name": "stderr",
     "output_type": "stream",
     "text": [
      "Building Train/2: 100% |###################################################| 41\n"
     ]
    },
    {
     "data": {
      "image/png": "[encoded data removed]",
      "text/plain": [
       "<Figure size 500x300 with 1 Axes>"
      ]
     },
     "metadata": {},
     "output_type": "display_data"
    },
    {
     "name": "stderr",
     "output_type": "stream",
     "text": [
      "Building Val/2: 100% |######################################################| 9\n"
     ]
    },
    {
     "data": {
      "image/png": "[encoded data removed]",
      "text/plain": [
       "<Figure size 500x300 with 1 Axes>"
      ]
     },
     "metadata": {},
     "output_type": "display_data"
    },
    {
     "name": "stderr",
     "output_type": "stream",
     "text": [
      "Building Test/2: 100% |####################################################| 10\n"
     ]
    },
    {
     "data": {
      "image/png": "[encoded data removed]",
      "text/plain": [
       "<Figure size 500x300 with 1 Axes>"
      ]
     },
     "metadata": {},
     "output_type": "display_data"
    },
    {
     "name": "stderr",
     "output_type": "stream",
     "text": [
      "Building Rest/2: 100% |####################################################| 91\n"
     ]
    }
   ],
   "source": [
    "data = [\n",
    "    (train_df, 'Train'),\n",
    "    (val_df, 'Val'),\n",
    "    (test_df, 'Test'),\n",
    "    (rest_df, 'Rest'),\n",
    "]\n",
    "\n",
    "for df, subset in data:\n",
    "    ds_path = create_path(DB_PATH, subset)\n",
    "    display_df_dist(df, subset)\n",
    "    organize_set_imgs(df, ds_path)"
   ]
  }
 ],
 "metadata": {
  "kernelspec": {
   "display_name": "base",
   "language": "python",
   "name": "python3"
  },
  "language_info": {
   "codemirror_mode": {
    "name": "ipython",
    "version": 3
   },
   "file_extension": ".py",
   "mimetype": "text/x-python",
   "name": "python",
   "nbconvert_exporter": "python",
   "pygments_lexer": "ipython3",
   "version": "3.9.13"
  },
  "orig_nbformat": 4,
  "vscode": {
   "interpreter": {
    "hash": "71d464e3e35be70104864c681be483f6183875546e2199e407c29c4c8fd67fae"
   }
  }
 },
 "nbformat": 4,
 "nbformat_minor": 2
}
