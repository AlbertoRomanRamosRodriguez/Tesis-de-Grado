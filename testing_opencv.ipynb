{
 "cells": [
  {
   "attachments": {},
   "cell_type": "markdown",
   "metadata": {},
   "source": [
    "# Testing OpenCV algorithms"
   ]
  },
  {
   "cell_type": "code",
   "execution_count": 2,
   "metadata": {},
   "outputs": [],
   "source": [
    "import numpy as np\n",
    "import cv2\n",
    "import os\n",
    "import matplotlib.pyplot as plt"
   ]
  },
  {
   "cell_type": "code",
   "execution_count": null,
   "metadata": {},
   "outputs": [],
   "source": []
  },
  {
   "cell_type": "code",
   "execution_count": 12,
   "metadata": {},
   "outputs": [],
   "source": [
    "# Load the pathimage\n",
    "path = 'Data/retinal-lesions-v20191227/images_896x896'\n",
    "\n",
    "for idx, imp in enumerate(os.listdir(path)[11:18]):\n",
    "    im_path = os.path.join(path, imp)\n",
    "    orig_img = cv2.imread(im_path)\n",
    "    img = orig_img.copy()\n",
    "\n",
    "    # Extract the green plane\n",
    "    green_plane = img[:, :, 1]\n",
    "    green_orig = green_plane.copy()\n",
    "\n",
    "    cv2.imshow('Original Image', orig_img)\n",
    "    cv2.waitKey(0)\n",
    "    cv2.imshow('Green Plane Image', green_orig)\n",
    "    cv2.waitKey(0)\n",
    "\n",
    "    for t in [22,24,27]:\n",
    "        for c in [4.5, 5]:\n",
    "            # Define the FA-CLAHE algorithm\n",
    "            green_plane = green_orig.copy()\n",
    "            faclahe = cv2.createCLAHE(clipLimit=c, tileGridSize=(t, t))\n",
    "\n",
    "            # Apply the FA-CLAHE algorithm to the green plane\n",
    "            faclahe_img = faclahe.apply(green_plane)\n",
    "\n",
    "            # Replace the green plane with the enhanced green plane\n",
    "            img[:, :, 1] = faclahe_img\n",
    "\n",
    "            # Display the original and enhanced images\n",
    "            cv2.imshow(f'FA-CLAHE Enhanced Image {t}-{c}', faclahe_img)\n",
    "            cv2.waitKey(0)\n",
    "        \n",
    "    cv2.destroyAllWindows()"
   ]
  },
  {
   "cell_type": "code",
   "execution_count": 4,
   "metadata": {},
   "outputs": [],
   "source": [
    "im_path = 'Data/retinal-lesions-v20191227/lesion_segs_896x896/original/9_left/cotton_wool_spots.png'\n",
    "# Load the input image in grayscale mode\n",
    "img = cv2.imread(im_path, cv2.IMREAD_GRAYSCALE)\n",
    "\n",
    "# Apply binary thresholding to convert the image to a binary image\n",
    "ret, thresh = cv2.threshold(img, 0, 255, cv2.THRESH_BINARY + cv2.THRESH_OTSU)\n",
    "\n",
    "# Get the connected components of the binary image\n",
    "num_labels, labels, stats, centroids = cv2.connectedComponentsWithStats(thresh, connectivity=8)\n",
    "\n",
    "# Iterate over the connected components and display them one by one\n",
    "for i in range(1, num_labels):\n",
    "    # Create a binary image for the current component\n",
    "    component = (labels == i).astype(np.uint8) * 255\n",
    "    \n",
    "    # Display the current component\n",
    "    cv2.imshow('Component {}'.format(i), component)\n",
    "    \n",
    "    # Wait for a key event\n",
    "    cv2.waitKey(0)\n",
    "\n",
    "    # Close all open windows\n",
    "    cv2.destroyAllWindows()\n"
   ]
  },
  {
   "cell_type": "code",
   "execution_count": 3,
   "metadata": {},
   "outputs": [
    {
     "data": {
      "text/plain": [
       "False"
      ]
     },
     "execution_count": 3,
     "metadata": {},
     "output_type": "execute_result"
    }
   ],
   "source": [
    "os.path.exists('mask.png')"
   ]
  }
 ],
 "metadata": {
  "kernelspec": {
   "display_name": "sist_auto",
   "language": "python",
   "name": "python3"
  },
  "language_info": {
   "codemirror_mode": {
    "name": "ipython",
    "version": 3
   },
   "file_extension": ".py",
   "mimetype": "text/x-python",
   "name": "python",
   "nbconvert_exporter": "python",
   "pygments_lexer": "ipython3",
   "version": "3.11.3"
  },
  "orig_nbformat": 4
 },
 "nbformat": 4,
 "nbformat_minor": 2
}
