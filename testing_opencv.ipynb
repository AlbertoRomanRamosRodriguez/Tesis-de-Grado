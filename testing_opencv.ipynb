{
 "cells": [
  {
   "attachments": {},
   "cell_type": "markdown",
   "metadata": {},
   "source": [
    "# Testing OpenCV algorithms"
   ]
  },
  {
   "cell_type": "code",
   "execution_count": 1,
   "metadata": {},
   "outputs": [],
   "source": [
    "import numpy as np\n",
    "import cv2\n",
    "import os"
   ]
  },
  {
   "cell_type": "code",
   "execution_count": 3,
   "metadata": {},
   "outputs": [
    {
     "name": "stderr",
     "output_type": "stream",
     "text": [
      "libGL error: MESA-LOADER: failed to open iris: /usr/lib/dri/iris_dri.so: cannot open shared object file: No such file or directory (search paths /usr/lib/x86_64-linux-gnu/dri:\\$${ORIGIN}/dri:/usr/lib/dri, suffix _dri)\n",
      "libGL error: failed to load driver: iris\n",
      "libGL error: MESA-LOADER: failed to open iris: /usr/lib/dri/iris_dri.so: cannot open shared object file: No such file or directory (search paths /usr/lib/x86_64-linux-gnu/dri:\\$${ORIGIN}/dri:/usr/lib/dri, suffix _dri)\n",
      "libGL error: failed to load driver: iris\n",
      "libGL error: MESA-LOADER: failed to open swrast: /usr/lib/dri/swrast_dri.so: cannot open shared object file: No such file or directory (search paths /usr/lib/x86_64-linux-gnu/dri:\\$${ORIGIN}/dri:/usr/lib/dri, suffix _dri)\n",
      "libGL error: failed to load driver: swrast\n"
     ]
    }
   ],
   "source": [
    "# Load the pathimage\n",
    "path = 'Data/retinal-lesions-v20191227/images_896x896'\n",
    "\n",
    "for idx, imp in enumerate(os.listdir(path)):\n",
    "    im_path = os.path.join(path, imp)\n",
    "    orig_img = cv2.imread(im_path)\n",
    "    img = orig_img.copy()\n",
    "\n",
    "    # Extract the green plane\n",
    "    green_plane = img[:, :, 1]\n",
    "\n",
    "    # Define the FA-CLAHE algorithm\n",
    "    faclahe = cv2.createCLAHE(clipLimit=5.0, tileGridSize=(8, 8))\n",
    "\n",
    "    # Apply the FA-CLAHE algorithm to the green plane\n",
    "    faclahe_img = faclahe.apply(green_plane)\n",
    "\n",
    "    # Replace the green plane with the enhanced green plane\n",
    "    img[:, :, 1] = faclahe_img\n",
    "\n",
    "    # Display the original and enhanced images\n",
    "    cv2.imshow('Original Image', orig_img)\n",
    "    cv2.waitKey(0)\n",
    "    cv2.imshow('FA-CLAHE Enhanced Image', faclahe_img)\n",
    "    cv2.waitKey(0)\n",
    "    cv2.destroyAllWindows()"
   ]
  },
  {
   "cell_type": "code",
   "execution_count": 9,
   "metadata": {},
   "outputs": [],
   "source": [
    "im_path = 'Data/retinal-lesions-v20191227/lesion_segs_896x896/original/9_left/cotton_wool_spots.png'\n",
    "# Load the input image in grayscale mode\n",
    "img = cv2.imread(im_path, cv2.IMREAD_GRAYSCALE)\n",
    "\n",
    "# Apply binary thresholding to convert the image to a binary image\n",
    "ret, thresh = cv2.threshold(img, 0, 255, cv2.THRESH_BINARY + cv2.THRESH_OTSU)\n",
    "\n",
    "# Get the connected components of the binary image\n",
    "num_labels, labels, stats, centroids = cv2.connectedComponentsWithStats(thresh, connectivity=8)\n",
    "\n",
    "# Iterate over the connected components and display them one by one\n",
    "for i in range(1, num_labels):\n",
    "    # Create a binary image for the current component\n",
    "    component = (labels == i).astype(np.uint8) * 255\n",
    "    \n",
    "    # Display the current component\n",
    "    cv2.imshow('Component {}'.format(i), component)\n",
    "    \n",
    "    # Wait for a key event\n",
    "    cv2.waitKey(0)\n",
    "\n",
    "    # Close all open windows\n",
    "    cv2.destroyAllWindows()\n"
   ]
  },
  {
   "cell_type": "code",
   "execution_count": 2,
   "metadata": {},
   "outputs": [
    {
     "data": {
      "text/plain": [
       "True"
      ]
     },
     "execution_count": 2,
     "metadata": {},
     "output_type": "execute_result"
    }
   ],
   "source": [
    "os.path.exists('mask.png')"
   ]
  }
 ],
 "metadata": {
  "kernelspec": {
   "display_name": "sist_auto",
   "language": "python",
   "name": "python3"
  },
  "language_info": {
   "codemirror_mode": {
    "name": "ipython",
    "version": 3
   },
   "file_extension": ".py",
   "mimetype": "text/x-python",
   "name": "python",
   "nbconvert_exporter": "python",
   "pygments_lexer": "ipython3",
   "version": "3.11.2"
  },
  "orig_nbformat": 4
 },
 "nbformat": 4,
 "nbformat_minor": 2
}
