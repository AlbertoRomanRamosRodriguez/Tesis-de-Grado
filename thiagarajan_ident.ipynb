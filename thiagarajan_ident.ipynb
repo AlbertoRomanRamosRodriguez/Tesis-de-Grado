{
 "cells": [
  {
   "attachments": {},
   "cell_type": "markdown",
   "metadata": {},
   "source": [
    "# Identificación de Retinopatía Diabética con Arquitectura de Aswin Shriram Thiagarajan et al"
   ]
  },
  {
   "attachments": {},
   "cell_type": "markdown",
   "metadata": {},
   "source": [
    "Paper: Aswin Shriram Thiagarajan et al., / Journal of Computer Science 2020, 16 (3): 305.313 \n",
    "\n",
    "__DOI: 10.3844/jcssp.2020.305.313__"
   ]
  },
  {
   "cell_type": "code",
   "execution_count": 2,
   "metadata": {},
   "outputs": [],
   "source": [
    "from sklearn.preprocessing import LabelBinarizer\n",
    "from sklearn.metrics import classification_report\n",
    "from imutils import paths\n",
    "\n",
    "from tesis_lib.nn.thiagarajan import Thiagarajan\n",
    "from tesis_lib.callbacks.trainingmonitor import TrainingMonitor\n",
    "from tesis_lib.preprocessing.imagetoarrayprocessor import ImageToArrayPreprocessor\n",
    "from tesis_lib.preprocessing.aspectawareprocessor import AspectAwareProcessor\n",
    "from tesis_lib.datasets.rosenbrock_loader import RosenbrockLoader\n",
    "\n",
    "from keras import backend as K\n",
    "from keras.preprocessing.image import ImageDataGenerator\n",
    "from keras.optimizers import Adam\n",
    "\n",
    "\n",
    "import numpy as np\n",
    "import os\n"
   ]
  },
  {
   "cell_type": "code",
   "execution_count": null,
   "metadata": {},
   "outputs": [],
   "source": [
    "DATASET_PATH = ''\n",
    "MODEL_PATH = '' # serialized hdf5 file\n",
    "MODEL_OUT_PATH = ''\n",
    "EPOCHS = 25"
   ]
  }
 ],
 "metadata": {
  "kernelspec": {
   "display_name": "expmlenv",
   "language": "python",
   "name": "python3"
  },
  "language_info": {
   "codemirror_mode": {
    "name": "ipython",
    "version": 3
   },
   "file_extension": ".py",
   "mimetype": "text/x-python",
   "name": "python",
   "nbconvert_exporter": "python",
   "pygments_lexer": "ipython3",
   "version": "3.10.8"
  },
  "orig_nbformat": 4,
  "vscode": {
   "interpreter": {
    "hash": "8e551f31eb65be6f81ef744b09e589319bc7597989a590509a727060f7a3aaf1"
   }
  }
 },
 "nbformat": 4,
 "nbformat_minor": 2
}
