{
 "cells": [
  {
   "attachments": {},
   "cell_type": "markdown",
   "metadata": {},
   "source": [
    "# EDA RFMiD"
   ]
  },
  {
   "cell_type": "code",
   "execution_count": 2,
   "metadata": {},
   "outputs": [],
   "source": [
    "import pandas as pd\n",
    "import numpy as np\n",
    "import matplotlib.pyplot as plt\n",
    "import seaborn as sn\n",
    "\n",
    "import os\n",
    "import progressbar"
   ]
  },
  {
   "attachments": {},
   "cell_type": "markdown",
   "metadata": {},
   "source": [
    "## Getting Data"
   ]
  },
  {
   "cell_type": "code",
   "execution_count": 3,
   "metadata": {},
   "outputs": [],
   "source": [
    "RFMID_PATH = \"./Data/Raw/MultiDiseaseClassification/RfmidMultidisease\""
   ]
  },
  {
   "cell_type": "code",
   "execution_count": 4,
   "metadata": {},
   "outputs": [],
   "source": [
    "DB_PATH = './DB/'\n",
    "if os.path.exists(DB_PATH):\n",
    "    !rm -r {DB_PATH}\n",
    "    os.mkdir(DB_PATH)\n",
    "else:\n",
    "    os.mkdir(DB_PATH)"
   ]
  },
  {
   "cell_type": "code",
   "execution_count": 5,
   "metadata": {},
   "outputs": [],
   "source": [
    "def unzip_set(zipFile: str, outputPath: str = DB_PATH):\n",
    "    print(zipFile)\n",
    "    zipFile = os.path.sep.join([RFMID_PATH, zipFile])\n",
    "    !7z x {zipFile} -o{outputPath}"
   ]
  },
  {
   "cell_type": "code",
   "execution_count": 6,
   "metadata": {},
   "outputs": [
    {
     "name": "stdout",
     "output_type": "stream",
     "text": [
      "Evaluation_Set.zip\n",
      "\n",
      "7-Zip [64] 16.02 : Copyright (c) 1999-2016 Igor Pavlov : 2016-05-21\n",
      "p7zip Version 16.02 (locale=en_US.UTF-8,Utf16=on,HugeFiles=on,64 bits,8 CPUs 11th Gen Intel(R) Core(TM) i5-11300H @ 3.10GHz (806C1),ASM,AES-NI)\n",
      "\n",
      "Scanning the drive for archives:\n",
      "  0M Scan ./Data/Raw/MultiDiseaseClassification/RfmidMultidiseas                                                                1 file, 1564446026 bytes (1492 MiB)\n",
      "\n",
      "Extracting archive: ./Data/Raw/MultiDiseaseClassification/RfmidMultidisease/Evaluation_Set.zip\n",
      "--\n",
      "Path = ./Data/Raw/MultiDiseaseClassification/RfmidMultidisease/Evaluation_Set.zip\n",
      "Type = zip\n",
      "Physical Size = 1564446026\n",
      "\n",
      "      1% 16 - Evaluation_Set/Validation/110.pn                                            5% 52 - Evaluation_Set/Validation/143.pn                                            9% 89 - Evaluation_Set/Validation/177.pn                                           12% 120 - Evaluation_Set/Validation/204.p                                           12% 1       13% 123 - Evaluation_Set/Validation/207.p                                           18% 172 - Evaluation_Set/Validation/251.p                                           21% 202 - Evaluation_Set/Validation/279.p                                           26% 243 - Evaluation_Set/Validation/315.p                                           32% 297 - Evaluation_Set/Validation/364.p                                           35% 326 - Evaluation_Set/Validation/390.p                                           40% 377 - Evaluation_Set/Validation/436.p                                           43% 398 - Evaluation_Set/Validation/455.p                                           49% 446 - Evaluation_Set/Validation/499.p                                           52% 454 - Evaluation_Set/Validation/505.p                                           58% 469 - Evaluation_Set/Validation/519.p                                           61% 476 - Evaluation_Set/Validation/525.p                                           66% 491 - Evaluation_Set/Validation/539.p                                           71% 504 - Evaluation_Set/Validation/550.p                                           71% 507 - Evaluation_Set/Validation/553.p                                           72% 516 - Evaluation_Set/Validation/561.p                                           77% 547 - Evaluation_Set/Validation/59.pn                                           78% 555 - Evaluation_Set/Validation/597.p                                           81% 568 - Evaluation_Set/Validation/608.p                                           90% 591 - Evaluation_Set/Validation/629.p                                          Everything is Ok\n",
      "\n",
      "Folders: 2\n",
      "Files: 641\n",
      "Size:       1564417295\n",
      "Compressed: 1564446026\n",
      "Test_Set.zip\n",
      "\n",
      "7-Zip [64] 16.02 : Copyright (c) 1999-2016 Igor Pavlov : 2016-05-21\n",
      "p7zip Version 16.02 (locale=en_US.UTF-8,Utf16=on,HugeFiles=on,64 bits,8 CPUs 11th Gen Intel(R) Core(TM) i5-11300H @ 3.10GHz (806C1),ASM,AES-NI)\n",
      "\n",
      "Scanning the drive for archives:\n",
      "  0M Scan ./Data/Raw/MultiDiseaseClassification/RfmidMultidiseas                                                                1 file, 1742451361 bytes (1662 MiB)\n",
      "\n",
      "Extracting archive: ./Data/Raw/MultiDiseaseClassification/RfmidMultidisease/Test_Set.zip\n",
      "--\n",
      "Path = ./Data/Raw/MultiDiseaseClassification/RfmidMultidisease/Test_Set.zip\n",
      "Type = zip\n",
      "Physical Size = 1742451361\n",
      "\n",
      "     10% 107 - Test_Set/Test/193.p                               20% 215 - Test_Set/Test/290.p                               31% 323 - Test_Set/Test/388.p                               38% 385 - Test_Set/Test/443.p                               47% 412 - Test_Set/Test/468.p                               57% 439 - Test_Set/Test/492.p                               59% 445 - Test_Set/Test/498.p                               59% 446 - Test_Set/Test/499.p                               60% 446 - Test_Set/Test/499.p                               60% 4       60% 449 - Test_Set/Test/500.p                               60% 4       60% 450 - Test_Set/Test/501.p                               65% 463 - Test_Set/Test/513.p                               65% 4       65% 464 - Test_Set/Test/514.p                               65% 465 - Test_Set/Test/515.p                               72% 482 - Test_Set/Test/530.p                               74% 488 - Test_Set/Test/536.p                               76% 499 - Test_Set/Test/546.p                               76% 502 - Test_Set/Test/549.p                               77% 512 - Test_Set/Test/558.p                               78% 520 - Test_Set/Test/565.p                               82% 551 - Test_Set/Test/593.p                               86% 565 - Test_Set/Test/605.p                               89% 574 - Test_Set/Test/613.p                               90% 579 - Test_Set/Test/618.p                               91% 587 - Test_Set/Test/625.p                               93% 596 - Test_Set/Test/633.p                              Everything is Ok\n",
      "\n",
      "Folders: 2\n",
      "Files: 641\n",
      "Size:       1742441359\n",
      "Compressed: 1742451361\n",
      "Training_Set.zip\n",
      "\n",
      "7-Zip [64] 16.02 : Copyright (c) 1999-2016 Igor Pavlov : 2016-05-21\n",
      "p7zip Version 16.02 (locale=en_US.UTF-8,Utf16=on,HugeFiles=on,64 bits,8 CPUs 11th Gen Intel(R) Core(TM) i5-11300H @ 3.10GHz (806C1),ASM,AES-NI)\n",
      "\n",
      "Scanning the drive for archives:\n",
      "  0M Scan ./Data/Raw/MultiDiseaseClassification/RfmidMultidiseas                                                                1 file, 4681355361 bytes (4465 MiB)\n",
      "\n",
      "Extracting archive: ./Data/Raw/MultiDiseaseClassification/RfmidMultidisease/Training_Set.zip\n",
      "--\n",
      "Path = ./Data/Raw/MultiDiseaseClassification/RfmidMultidisease/Training_Set.zip\n",
      "Type = zip\n",
      "Physical Size = 4681355361\n",
      "64-bit = +\n",
      "\n",
      "      4% 114 - Training_Set/Training/1099.pn                                          5% 145 - Training_Set/Training/1126.pn                                          5% 155 - Training_Set/Training/1135.pn                                          5% 161 - Training_Set/Training/1140.pn                                          6% 170 - Training_Set/Training/1149.pn                                          6% 176 - Training_Set/Training/1154.pn                                          7% 195 - Training_Set/Training/1171.pn                                          8% 223 - Training_Set/Training/1197.pn                                          8% 233 - Training_Set/Training/1205.pn                                          8% 245 - Training_Set/Training/1216.pn                                          9% 258 - Training_Set/Training/1228.pn                                          9% 265 - Training_Set/Training/1234.pn                                         10% 279 - Training_Set/Training/1247.pn                                         12% 353 - Training_Set/Training/1313.pn                                         14% 396 - Training_Set/Training/1352.pn                                         14% 406 - Training_Set/Training/1361.pn                                         15% 417 - Training_Set/Training/1371.pn                                         15% 430 - Training_Set/Training/1383.pn                                         15% 433 - Training_Set/Training/1386.pn                                         16% 443 - Training_Set/Training/1395.pn                                         20% 552 - Training_Set/Training/1493.pn                                         21% 562 - Training_Set/Training/1501.pn                                         21% 566 - Training_Set/Training/1505.pn                                         22% 572 - Training_Set/Training/1510.pn                                         22% 574 - Training_Set/Training/1512.pn                                         23% 577 - Training_Set/Training/1515.pn                                         23% 580 - Training_Set/Training/1518.pn                                         23% 584 - Training_Set/Training/1521.pn                                         24% 586 - Training_Set/Training/1523.pn                                         24% 589 - Training_Set/Training/1526.pn                                         25% 592 - Training_Set/Training/1529.pn                                         25% 595 - Training_Set/Training/1531.pn                                         25% 598 - Training_Set/Training/1534.pn                                         28% 620 - Training_Set/Training/1554.pn                                         29% 629 - Training_Set/Training/1562.pn                                         30% 632 - Training_Set/Training/1565.pn                                         30% 635 - Training_Set/Training/1568.pn                                         31% 639 - Training_Set/Training/1571.pn                                         31% 641 - Training_Set/Training/1573.pn                                         33% 655 - Training_Set/Training/1586.pn                                         33% 661 - Training_Set/Training/1591.pn                                         34% 663 - Training_Set/Training/1593.pn                                         34% 666 - Training_Set/Training/1596.pn                                         35% 668 - Training_Set/Training/1598.pn                                         35% 672 - Training_Set/Training/1600.pn                                         37% 688 - Training_Set/Training/1615.pn                                         37% 691 - Training_Set/Training/1618.pn                                         38% 695 - Training_Set/Training/1621.pn                                         38% 698 - Training_Set/Training/1624.pn                                         38% 699 - Training_Set/Training/1625.pn                                         39% 703 - Training_Set/Training/1629.pn                                         40% 714 - Training_Set/Training/1639.pn                                         43% 733 - Training_Set/Training/1656.pn                                         43% 738 - Training_Set/Training/1660.pn                                         43% 739 - Training_Set/Training/1661.pn                                         45% 754 - Training_Set/Training/1675.pn                                         45% 7       46% 762 - Training_Set/Training/1682.pn                                         47% 767 - Training_Set/Training/1687.pn                                         47% 768 - Training_Set/Training/1688.pn                                         47% 7       49% 780 - Training_Set/Training/1699.pn                                         49% 781 - Training_Set/Training/17.pn                                       49% 782 - Training_Set/Training/170.p                                       49% 783 - Training_Set/Training/1700.pn                                         51% 794 - Training_Set/Training/1710.pn                                         51% 7       51% 799 - Training_Set/Training/1715.pn                                         53% 814 - Training_Set/Training/1729.pn                                         53% 8       53% 816 - Training_Set/Training/1730.pn                                         55% 827 - Training_Set/Training/1740.pn                                         55% 8       55% 828 - Training_Set/Training/1741.pn                                         55% 829 - Training_Set/Training/1742.pn                                         55% 830 - Training_Set/Training/1743.pn                                         57% 864 - Training_Set/Training/1774.pn                                         57% 8       57% 870 - Training_Set/Training/178.p                                       58% 905 - Training_Set/Training/1810.pn                                         58% 9       58% 907 - Training_Set/Training/1812.pn                                         58% 909 - Training_Set/Training/1814.pn                                         59% 909 - Training_Set/Training/1814.pn                                         60% 953 - Training_Set/Training/1854.pn                                         63% 996 - Training_Set/Training/1893.pn                                         63% 9       63% 999 - Training_Set/Training/1896.pn                                         65% 1014 - Training_Set/Training/1909.p                                         67% 1043 - Training_Set/Training/206.pn                                         70% 1108 - Training_Set/Training/265.pn                                         70% 1109 - Training_Set/Training/266.pn                                         70% 1110 - Training_Set/Training/267.pn                                         70% 1113 - Training_Set/Training/27.p                                       70% 1114 - Training_Set/Training/270.pn                                         71% 1149 - Training_Set/Training/301.pn                                         71% 1158 - Training_Set/Training/31.p                                       72% 1166 - Training_Set/Training/317.pn                                         73% 1215 - Training_Set/Training/361.pn                                         75% 1256 - Training_Set/Training/399.pn                                         78% 1338 - Training_Set/Training/472.pn                                         79% 1370 - Training_Set/Training/500.pn                                         82% 1436 - Training_Set/Training/560.pn                                         83% 1482 - Training_Set/Training/601.pn                                         85% 1529 - Training_Set/Training/644.pn                                         88% 1599 - Training_Set/Training/707.pn                                         88% 1619 - Training_Set/Training/725.pn                                         88% 1621 - Training_Set/Training/727.pn                                         88% 1622 - Training_Set/Training/728.pn                                         89% 1646 - Training_Set/Training/75.p                                       90% 1665 - Training_Set/Training/767.pn                                         90% 1666 - Training_Set/Training/768.pn                                         90% 1673 - Training_Set/Training/774.pn                                         92% 1724 - Training_Set/Training/82.p                                       94% 1786 - Training_Set/Training/876.pn                                         95% 1807 - Training_Set/Training/895.pn                                         98% 1879 - Training_Set/Training/96.p                                      Everything is Ok\n",
      "\n",
      "Folders: 2\n",
      "Files: 1921\n",
      "Size:       4681024067\n",
      "Compressed: 4681355361\n"
     ]
    },
    {
     "data": {
      "text/plain": [
       "[None, None, None]"
      ]
     },
     "execution_count": 6,
     "metadata": {},
     "output_type": "execute_result"
    }
   ],
   "source": [
    "[unzip_set(z) for z in os.listdir(RFMID_PATH) if '.zip' in z]"
   ]
  },
  {
   "cell_type": "code",
   "execution_count": 7,
   "metadata": {},
   "outputs": [],
   "source": [
    "for f in os.listdir(DB_PATH):\n",
    "    !mv {os.path.sep.join([DB_PATH, f])}/* {DB_PATH}\n",
    "    !rm -r {os.path.sep.join([DB_PATH, f])}"
   ]
  },
  {
   "attachments": {},
   "cell_type": "markdown",
   "metadata": {},
   "source": [
    "## Restructuring the dataset"
   ]
  },
  {
   "cell_type": "code",
   "execution_count": 8,
   "metadata": {},
   "outputs": [],
   "source": [
    "def restructure_set(csv_file: str, folder: str, column: str):\n",
    "\n",
    "    df_columns = [\"ID\"]\n",
    "    df_columns.append(column)\n",
    "\n",
    "    # read csv file from the DB path\n",
    "    df = pd.read_csv(os.path.sep.join([DB_PATH, csv_file]))\n",
    "    df.dropna(how='all', axis=0, inplace=True)\n",
    "\n",
    "    # get ID + specified disease column\n",
    "    dr_df = df.loc[:, df.columns.isin(df_columns)]\n",
    "\n",
    "    # dictionary column:[ID]\n",
    "    dir_structure = {f'{i}':list(dr_df.loc[dr_df[column] == i].pop(\"ID\")) for i in range(2)}\n",
    "\n",
    "    # creating a folder named as {column} containing all files in [ID]\n",
    "    for k in dir_structure.keys():\n",
    "        class_path = os.path.sep.join([DB_PATH, folder, k])\n",
    "\n",
    "        if not os.path.exists(class_path):\n",
    "            os.mkdir(class_path)\n",
    "        \n",
    "        widgets = [\n",
    "            f\"Building Dataset {folder}/{k}: \",\n",
    "            progressbar.Percentage(),\n",
    "            \" \",\n",
    "            progressbar.Bar(),\n",
    "            \" \",\n",
    "            progressbar.ETA()\n",
    "        ]\n",
    "\n",
    "        \n",
    "        for i, v in enumerate(dir_structure[k]):\n",
    "\n",
    "\n",
    "            pbar = progressbar.ProgressBar(\n",
    "                maxval=len(dir_structure[k]),\n",
    "                widgets=widgets\n",
    "            ).start()\n",
    "\n",
    "            destination = os.path.sep.join([class_path, f'{v}.png'])\n",
    "            origin = os.path.sep.join([DB_PATH, folder, f'{v}.png'])\n",
    "            !mv {origin} {destination}\n",
    "\n",
    "            pbar.update(i)\n",
    "\n",
    "        pbar.finish()"
   ]
  },
  {
   "cell_type": "code",
   "execution_count": 9,
   "metadata": {},
   "outputs": [
    {
     "name": "stderr",
     "output_type": "stream",
     "text": [
      "Building Dataset Training/0: 100% |#############################| Time: 0:00:00\n",
      "Building Dataset Training/1: 100% |#############################| Time: 0:00:00\n",
      "Building Dataset Validation/0: 100% |###########################| Time: 0:00:00\n",
      "Building Dataset Validation/1: 100% |###########################| Time: 0:00:00\n",
      "Building Dataset Test/0: 100% |#################################| Time: 0:00:00\n",
      "Building Dataset Test/1: 100% |#################################| Time: 0:00:00\n"
     ]
    }
   ],
   "source": [
    "csv_files = [f for f in os.listdir(DB_PATH) if '.csv' in f]\n",
    "folders = [f for f in os.listdir(DB_PATH) if f not in csv_files]\n",
    "\n",
    "for csv in csv_files:\n",
    "    for f in folders:\n",
    "        if f in csv:\n",
    "            restructure_set(csv, f, 'DR')"
   ]
  }
 ],
 "metadata": {
  "kernelspec": {
   "display_name": "DAPyEnv",
   "language": "python",
   "name": "python3"
  },
  "language_info": {
   "codemirror_mode": {
    "name": "ipython",
    "version": 3
   },
   "file_extension": ".py",
   "mimetype": "text/x-python",
   "name": "python",
   "nbconvert_exporter": "python",
   "pygments_lexer": "ipython3",
   "version": "3.10.8 (main, Nov 24 2022, 14:13:03) [GCC 11.2.0]"
  },
  "orig_nbformat": 4,
  "vscode": {
   "interpreter": {
    "hash": "a224baf6a6839bacf51cec99cfcbfd7bfde95820515766c8297319e0ba4e2dfd"
   }
  }
 },
 "nbformat": 4,
 "nbformat_minor": 2
}
