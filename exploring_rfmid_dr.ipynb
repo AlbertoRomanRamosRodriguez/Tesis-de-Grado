{
 "cells": [
  {
   "attachments": {},
   "cell_type": "markdown",
   "metadata": {},
   "source": [
    "# EDA RFMiD"
   ]
  },
  {
   "cell_type": "code",
   "execution_count": 4,
   "metadata": {},
   "outputs": [],
   "source": [
    "import pandas as pd\n",
    "import numpy as np\n",
    "import matplotlib.pyplot as plt\n",
    "import seaborn as sn\n",
    "\n",
    "import os\n",
    "import progressbar"
   ]
  },
  {
   "attachments": {},
   "cell_type": "markdown",
   "metadata": {},
   "source": [
    "## Getting Data"
   ]
  },
  {
   "cell_type": "code",
   "execution_count": 5,
   "metadata": {},
   "outputs": [],
   "source": [
    "RFMID_PATH = \"./Data/Raw/MultiDiseaseClassification/RfmidMultidisease\""
   ]
  },
  {
   "cell_type": "code",
   "execution_count": 6,
   "metadata": {},
   "outputs": [],
   "source": [
    "DB_PATH = './RAW_DATA'\n",
    "if os.path.exists(DB_PATH):\n",
    "    !rm -r {DB_PATH}\n",
    "    os.mkdir(DB_PATH)\n",
    "else:\n",
    "    os.mkdir(DB_PATH)"
   ]
  },
  {
   "cell_type": "code",
   "execution_count": 7,
   "metadata": {},
   "outputs": [],
   "source": [
    "def unzip_set(zipFile: str, outputPath: str = DB_PATH):\n",
    "    print(zipFile)\n",
    "    zipFile = os.path.sep.join([RFMID_PATH, zipFile])\n",
    "    !7z x {zipFile} -o{outputPath}"
   ]
  },
  {
   "cell_type": "code",
   "execution_count": 8,
   "metadata": {},
   "outputs": [
    {
     "name": "stdout",
     "output_type": "stream",
     "text": [
      "Evaluation_Set.zip\n",
      "\n",
      "7-Zip [64] 16.02 : Copyright (c) 1999-2016 Igor Pavlov : 2016-05-21\n",
      "p7zip Version 16.02 (locale=en_US.UTF-8,Utf16=on,HugeFiles=on,64 bits,8 CPUs 11th Gen Intel(R) Core(TM) i5-11300H @ 3.10GHz (806C1),ASM,AES-NI)\n",
      "\n",
      "Scanning the drive for archives:\n",
      "  0M Scan ./Data/Raw/MultiDiseaseClassification/RfmidMultidiseas                                                                1 file, 1564446026 bytes (1492 MiB)\n",
      "\n",
      "Extracting archive: ./Data/Raw/MultiDiseaseClassification/RfmidMultidisease/Evaluation_Set.zip\n",
      "--\n",
      "Path = ./Data/Raw/MultiDiseaseClassification/RfmidMultidisease/Evaluation_Set.zip\n",
      "Type = zip\n",
      "Physical Size = 1564446026\n",
      "\n",
      "     10% 102 - Evaluation_Set/Validation/189.p                                           15% 144 - Evaluation_Set/Validation/226.p                                           20% 188 - Evaluation_Set/Validation/266.p                                           24% 222 - Evaluation_Set/Validation/297.p                                           32% 296 - Evaluation_Set/Validation/363.p                                           37% 342 - Evaluation_Set/Validation/404.p                                           43% 395 - Evaluation_Set/Validation/452.p                                           52% 453 - Evaluation_Set/Validation/504.p                                           59% 470 - Evaluation_Set/Validation/52.pn                                           63% 480 - Evaluation_Set/Validation/529.p                                           71% 504 - Evaluation_Set/Validation/550.p                                           71% 507 - Evaluation_Set/Validation/553.p                                           73% 520 - Evaluation_Set/Validation/565.p                                           77% 549 - Evaluation_Set/Validation/591.p                                           82% 571 - Evaluation_Set/Validation/610.p                                           87% 585 - Evaluation_Set/Validation/623.p                                           97% 616 - Evaluation_Set/Validation/75.pn                                          Everything is Ok\n",
      "\n",
      "Folders: 2\n",
      "Files: 641\n",
      "Size:       1564417295\n",
      "Compressed: 1564446026\n",
      "Test_Set.zip\n",
      "\n",
      "7-Zip [64] 16.02 : Copyright (c) 1999-2016 Igor Pavlov : 2016-05-21\n",
      "p7zip Version 16.02 (locale=en_US.UTF-8,Utf16=on,HugeFiles=on,64 bits,8 CPUs 11th Gen Intel(R) Core(TM) i5-11300H @ 3.10GHz (806C1),ASM,AES-NI)\n",
      "\n",
      "Scanning the drive for archives:\n",
      "  0M Scan ./Data/Raw/MultiDiseaseClassification/RfmidMultidiseas                                                                1 file, 1742451361 bytes (1662 MiB)\n",
      "\n",
      "Extracting archive: ./Data/Raw/MultiDiseaseClassification/RfmidMultidisease/Test_Set.zip\n",
      "--\n",
      "Path = ./Data/Raw/MultiDiseaseClassification/RfmidMultidisease/Test_Set.zip\n",
      "Type = zip\n",
      "Physical Size = 1742451361\n",
      "\n",
      "      5% 56 - Test_Set/Test/147.pn                               14% 148 - Test_Set/Test/23.pn                               19% 199 - Test_Set/Test/276.p                               24% 250 - Test_Set/Test/321.p                               31% 327 - Test_Set/Test/391.p                               36% 380 - Test_Set/Test/439.p                               44% 403 - Test_Set/Test/46.pn                               50% 419 - Test_Set/Test/474.p                               58% 442 - Test_Set/Test/495.p                               64% 458 - Test_Set/Test/509.p                               70% 478 - Test_Set/Test/527.p                               77% 508 - Test_Set/Test/554.p                               78% 520 - Test_Set/Test/565.p                               78% 5       82% 549 - Test_Set/Test/591.p                               86% 565 - Test_Set/Test/605.p                               88% 569 - Test_Set/Test/609.p                               88% 570 - Test_Set/Test/61.pn                               88% 571 - Test_Set/Test/610.p                               88% 5       88% 572 - Test_Set/Test/611.p                               89% 572 - Test_Set/Test/611.p                               89% 5       90% 579 - Test_Set/Test/618.p                               91% 587 - Test_Set/Test/625.p                               93% 595 - Test_Set/Test/632.p                               99% 634 - Test_Set/Test/91.pn                              Everything is Ok\n",
      "\n",
      "Folders: 2\n",
      "Files: 641\n",
      "Size:       1742441359\n",
      "Compressed: 1742451361\n",
      "Training_Set.zip\n",
      "\n",
      "7-Zip [64] 16.02 : Copyright (c) 1999-2016 Igor Pavlov : 2016-05-21\n",
      "p7zip Version 16.02 (locale=en_US.UTF-8,Utf16=on,HugeFiles=on,64 bits,8 CPUs 11th Gen Intel(R) Core(TM) i5-11300H @ 3.10GHz (806C1),ASM,AES-NI)\n",
      "\n",
      "Scanning the drive for archives:\n",
      "  0M Scan ./Data/Raw/MultiDiseaseClassification/RfmidMultidiseas                                                                1 file, 4681355361 bytes (4465 MiB)\n",
      "\n",
      "Extracting archive: ./Data/Raw/MultiDiseaseClassification/RfmidMultidisease/Training_Set.zip\n",
      "--\n",
      "Path = ./Data/Raw/MultiDiseaseClassification/RfmidMultidisease/Training_Set.zip\n",
      "Type = zip\n",
      "Physical Size = 4681355361\n",
      "64-bit = +\n",
      "\n",
      "      1% 55 - Training_Set/Training/1045.p                                        1% 56 - Training_Set/Training/1046.p                                        2% 57 - Training_Set/Training/1047.p                                        2% 59 - Training_Set/Training/1049.p                                        2% 60 - Training_Set/Training/105.pn                                        3% 103 - Training_Set/Training/1089.pn                                          3% 108 - Training_Set/Training/1093.pn                                          5% 154 - Training_Set/Training/1134.pn                                          5% 155 - Training_Set/Training/1135.pn                                          5% 157 - Training_Set/Training/1137.pn                                          5% 158 - Training_Set/Training/1138.pn                                          5% 159 - Training_Set/Training/1139.pn                                          7% 206 - Training_Set/Training/1181.pn                                          9% 272 - Training_Set/Training/1240.pn                                         12% 330 - Training_Set/Training/1293.pn                                         14% 396 - Training_Set/Training/1352.pn                                         14% 3       14% 399 - Training_Set/Training/1355.pn                                         15% 429 - Training_Set/Training/1382.pn                                         16% 440 - Training_Set/Training/1392.pn                                         16% 441 - Training_Set/Training/1393.pn                                         16% 442 - Training_Set/Training/1394.pn                                         16% 443 - Training_Set/Training/1395.pn                                         16% 444 - Training_Set/Training/1396.pn                                         16% 445 - Training_Set/Training/1397.pn                                         16% 448 - Training_Set/Training/14.pn                                       18% 497 - Training_Set/Training/1443.pn                                         20% 549 - Training_Set/Training/1490.pn                                         22% 575 - Training_Set/Training/1513.pn                                         22% 5       24% 587 - Training_Set/Training/1524.pn                                         24% 5       24% 588 - Training_Set/Training/1525.pn                                         24% 590 - Training_Set/Training/1527.pn                                         27% 609 - Training_Set/Training/1544.pn                                         29% 625 - Training_Set/Training/1559.pn                                         31% 644 - Training_Set/Training/1576.pn                                         34% 661 - Training_Set/Training/1591.pn                                         36% 678 - Training_Set/Training/1606.pn                                         38% 697 - Training_Set/Training/1623.pn                                         38% 6       40% 712 - Training_Set/Training/1637.pn                                         40% 713 - Training_Set/Training/1638.pn                                         40% 714 - Training_Set/Training/1639.pn                                         40% 717 - Training_Set/Training/1641.pn                                         41% 718 - Training_Set/Training/1642.pn                                         41% 7       41% 719 - Training_Set/Training/1643.pn                                         41% 7       41% 720 - Training_Set/Training/1644.pn                                         42% 725 - Training_Set/Training/1649.pn                                         44% 745 - Training_Set/Training/1667.pn                                         46% 763 - Training_Set/Training/1683.pn                                         47% 769 - Training_Set/Training/1689.pn                                         51% 799 - Training_Set/Training/1715.pn                                         51% 800 - Training_Set/Training/1716.pn                                         55% 825 - Training_Set/Training/1739.pn                                         55% 827 - Training_Set/Training/1740.pn                                         55% 8       55% 830 - Training_Set/Training/1743.pn                                         55% 831 - Training_Set/Training/1744.pn                                         57% 867 - Training_Set/Training/1777.pn                                         59% 911 - Training_Set/Training/1816.pn                                         61% 956 - Training_Set/Training/1857.pn                                         63% 998 - Training_Set/Training/1895.pn                                         63% 9       63% 999 - Training_Set/Training/1896.pn                                         63% 100         63% 1000 - Training_Set/Training/1897.p                                         63% 1001 - Training_Set/Training/1898.p                                         63% 100         63% 1002 - Training_Set/Training/1899.p                                         64% 1002 - Training_Set/Training/1899.p                                         64% 1003 - Training_Set/Training/19.p                                       65% 1016 - Training_Set/Training/1910.p                                         66% 1023 - Training_Set/Training/1917.p                                         69% 1086 - Training_Set/Training/245.pn                                         70% 1132 - Training_Set/Training/287.pn                                         71% 1135 - Training_Set/Training/29.p                                       72% 1180 - Training_Set/Training/33.p                                       72% 1183 - Training_Set/Training/332.pn                                         72% 1185 - Training_Set/Training/334.pn                                         72% 1186 - Training_Set/Training/335.pn                                         73% 1191 - Training_Set/Training/34.p                                       74% 1236 - Training_Set/Training/380.pn                                         74% 123         74% 1238 - Training_Set/Training/382.pn                                         74% 1241 - Training_Set/Training/385.pn                                         74% 1242 - Training_Set/Training/386.pn                                         76% 1286 - Training_Set/Training/425.pn                                         78% 1339 - Training_Set/Training/473.pn                                         78% 1349 - Training_Set/Training/482.pn                                         80% 1405 - Training_Set/Training/532.pn                                         80% 1406 - Training_Set/Training/533.pn                                         81% 1409 - Training_Set/Training/536.pn                                         81% 1410 - Training_Set/Training/537.pn                                         81% 1412 - Training_Set/Training/539.pn                                         82% 1452 - Training_Set/Training/575.pn                                         82% 1454 - Training_Set/Training/577.pn                                         82% 145         82% 1457 - Training_Set/Training/58.p                                       82% 1458 - Training_Set/Training/580.pn                                         84% 1501 - Training_Set/Training/619.pn                                         84% 1507 - Training_Set/Training/624.pn                                         84% 1509 - Training_Set/Training/626.pn                                         84% 1510 - Training_Set/Training/627.pn                                         84% 1512 - Training_Set/Training/629.pn                                         86% 1553 - Training_Set/Training/666.pn                                         86% 1554 - Training_Set/Training/667.pn                                         86% 1556 - Training_Set/Training/669.pn                                         86% 1557 - Training_Set/Training/67.p                                       86% 155         86% 1559 - Training_Set/Training/671.pn                                         86% 1560 - Training_Set/Training/672.pn                                         86% 1561 - Training_Set/Training/673.pn                                         86% 1562 - Training_Set/Training/674.pn                                         86% 1563 - Training_Set/Training/675.pn                                         88% 1603 - Training_Set/Training/710.pn                                         88% 1605 - Training_Set/Training/712.pn                                         88% 1610 - Training_Set/Training/717.pn                                         90% 1673 - Training_Set/Training/774.pn                                         93% 1732 - Training_Set/Training/827.pn                                         95% 1790 - Training_Set/Training/88.p                                       95% 1793 - Training_Set/Training/882.pn                                         96% 1839 - Training_Set/Training/923.pn                                         96% 1840 - Training_Set/Training/924.pn                                         97% 1842 - Training_Set/Training/926.pn                                         97% 1843 - Training_Set/Training/927.pn                                         97% 1846 - Training_Set/Training/93.p                                       98% 1891 - Training_Set/Training/970.pn                                         98% 1893 - Training_Set/Training/972.pn                                         98% 1894 - Training_Set/Training/973.pn                                        Everything is Ok\n",
      "\n",
      "Folders: 2\n",
      "Files: 1921\n",
      "Size:       4681024067\n",
      "Compressed: 4681355361\n"
     ]
    },
    {
     "data": {
      "text/plain": [
       "[None, None, None]"
      ]
     },
     "execution_count": 8,
     "metadata": {},
     "output_type": "execute_result"
    }
   ],
   "source": [
    "[unzip_set(z) for z in os.listdir(RFMID_PATH) if '.zip' in z]"
   ]
  },
  {
   "cell_type": "code",
   "execution_count": 9,
   "metadata": {},
   "outputs": [],
   "source": [
    "for f in os.listdir(DB_PATH):\n",
    "    !mv {os.path.sep.join([DB_PATH, f])}/* {DB_PATH}\n",
    "    !rm -r {os.path.sep.join([DB_PATH, f])}"
   ]
  },
  {
   "attachments": {},
   "cell_type": "markdown",
   "metadata": {},
   "source": [
    "## Exploring the dataset"
   ]
  },
  {
   "cell_type": "code",
   "execution_count": 10,
   "metadata": {},
   "outputs": [],
   "source": [
    "csv_path = os.path.sep.join([DB_PATH, 'RFMiD_Training_Labels.csv'])\n",
    "training_df = pd.read_csv(csv_path)\n",
    "\n",
    "training_df.dropna(how='all', axis=0, inplace=True)\n",
    "\n",
    "# get ID + specified disease column\n",
    "dr_training_df = training_df.loc[:, training_df.columns.isin(['ID', 'DR'])]"
   ]
  },
  {
   "cell_type": "code",
   "execution_count": 11,
   "metadata": {},
   "outputs": [
    {
     "data": {
      "text/plain": [
       "DR\n",
       "0    1544\n",
       "1     376\n",
       "Name: ID, dtype: int64"
      ]
     },
     "execution_count": 11,
     "metadata": {},
     "output_type": "execute_result"
    }
   ],
   "source": [
    "dr_training_df.groupby('DR')['ID'].count()"
   ]
  },
  {
   "cell_type": "code",
   "execution_count": 12,
   "metadata": {},
   "outputs": [
    {
     "data": {
      "text/plain": [
       "DR\n",
       "0    376\n",
       "1    376\n",
       "Name: ID, dtype: int64"
      ]
     },
     "execution_count": 12,
     "metadata": {},
     "output_type": "execute_result"
    }
   ],
   "source": [
    "balanced = dr_training_df.groupby('DR').sample(376)\n",
    "\n",
    "balanced.groupby('DR')['ID'].count()"
   ]
  },
  {
   "cell_type": "code",
   "execution_count": 13,
   "metadata": {},
   "outputs": [],
   "source": [
    "DATASET_PATH = './DB'\n",
    "if os.path.exists(DATASET_PATH):\n",
    "    !rm -r {DATASET_PATH}\n",
    "    os.mkdir(DATASET_PATH)\n",
    "else:\n",
    "    os.mkdir(DATASET_PATH)"
   ]
  },
  {
   "attachments": {},
   "cell_type": "markdown",
   "metadata": {},
   "source": [
    "## Restructuring the dataset"
   ]
  },
  {
   "cell_type": "code",
   "execution_count": 14,
   "metadata": {},
   "outputs": [
    {
     "name": "stderr",
     "output_type": "stream",
     "text": [
      "Building Dataset Training/0: 100% |#############################| Time: 0:00:00\n",
      "Building Dataset Training/1: 100% |#############################| Time: 0:00:00\n"
     ]
    }
   ],
   "source": [
    "dir_structure = {f'{i}':list(balanced.loc[balanced['DR'] == i].pop(\"ID\")) for i in range(2)}\n",
    "\n",
    "for k in dir_structure.keys():\n",
    "        set_path = os.path.sep.join([DATASET_PATH, 'Training'])\n",
    "\n",
    "        if not os.path.exists(set_path):\n",
    "            os.mkdir(set_path)\n",
    "\n",
    "        class_path = os.path.sep.join([set_path, k])\n",
    "\n",
    "        if not os.path.exists(class_path):\n",
    "            os.mkdir(class_path)\n",
    "        \n",
    "        widgets = [\n",
    "            f\"Building Dataset {'Training'}/{k}: \",\n",
    "            progressbar.Percentage(),\n",
    "            \" \",\n",
    "            progressbar.Bar(),\n",
    "            \" \",\n",
    "            progressbar.ETA()\n",
    "        ]\n",
    "\n",
    "        \n",
    "        for i, v in enumerate(dir_structure[k]):\n",
    "\n",
    "\n",
    "            pbar = progressbar.ProgressBar(\n",
    "                maxval=len(dir_structure[k]),\n",
    "                widgets=widgets\n",
    "            ).start()\n",
    "\n",
    "            destination = os.path.sep.join([class_path, f'{v}.png'])\n",
    "            origin = os.path.sep.join([DB_PATH, 'Training', f'{v}.png'])\n",
    "            !mv {origin} {destination}\n",
    "\n",
    "            pbar.update(i)\n",
    "\n",
    "        pbar.finish()"
   ]
  },
  {
   "cell_type": "code",
   "execution_count": 15,
   "metadata": {},
   "outputs": [],
   "source": [
    "def restructure_set(csv_file: str, folder: str, column: str):\n",
    "\n",
    "    df_columns = [\"ID\"]\n",
    "    df_columns.append(column)\n",
    "\n",
    "    # read csv file from the DB path\n",
    "    csv_path = os.path.sep.join([DB_PATH, csv_file])\n",
    "    df = pd.read_csv(csv_path)\n",
    "    \n",
    "    df.dropna(how='all', axis=0, inplace=True)\n",
    "\n",
    "    # get ID + specified disease column\n",
    "    dr_df = df.loc[:, df.columns.isin(['ID', 'DR'])]\n",
    "    \n",
    "    # dictionary column:[ID]\n",
    "    dir_structure = {f'{i}':list(dr_df.loc[dr_df[column] == i].pop(\"ID\")) for i in range(2)}\n",
    "\n",
    "    # creating a folder named as {column} containing all files in [ID]\n",
    "    for k in dir_structure.keys():\n",
    "        set_path = os.path.sep.join([DATASET_PATH, folder])\n",
    "\n",
    "        if not os.path.exists(set_path):\n",
    "            os.mkdir(set_path)\n",
    "\n",
    "        class_path = os.path.sep.join([set_path, k])\n",
    "\n",
    "        if not os.path.exists(class_path):\n",
    "            os.mkdir(class_path)\n",
    "        \n",
    "        widgets = [\n",
    "            f\"Building Dataset {folder}/{k}: \",\n",
    "            progressbar.Percentage(),\n",
    "            \" \",\n",
    "            progressbar.Bar(),\n",
    "            \" \",\n",
    "            progressbar.ETA()\n",
    "        ]\n",
    "\n",
    "        \n",
    "        for i, v in enumerate(dir_structure[k]):\n",
    "\n",
    "\n",
    "            pbar = progressbar.ProgressBar(\n",
    "                maxval=len(dir_structure[k]),\n",
    "                widgets=widgets\n",
    "            ).start()\n",
    "\n",
    "            destination = os.path.sep.join([class_path, f'{v}.png'])\n",
    "            origin = os.path.sep.join([DB_PATH, folder, f'{v}.png'])\n",
    "            !mv {origin} {destination}\n",
    "\n",
    "            pbar.update(i)\n",
    "\n",
    "        pbar.finish()"
   ]
  },
  {
   "cell_type": "code",
   "execution_count": 16,
   "metadata": {},
   "outputs": [
    {
     "name": "stderr",
     "output_type": "stream",
     "text": [
      "Building Dataset Validation/0: 100% |###########################| Time: 0:00:00\n",
      "Building Dataset Validation/1: 100% |###########################| Time: 0:00:00\n",
      "Building Dataset Test/0: 100% |#################################| Time: 0:00:00\n",
      "Building Dataset Test/1: 100% |#################################| Time: 0:00:00\n"
     ]
    }
   ],
   "source": [
    "not_training = [f for f in os.listdir(DB_PATH) if 'Training' not in f]\n",
    "csv_files = [f for f in not_training if '.csv' in f]\n",
    "folders = [f for f in not_training if f not in csv_files]\n",
    "\n",
    "for csv in csv_files:\n",
    "    for f in folders:\n",
    "        if f in csv: # folder name is included in csv filename, which means folder and csv file match\n",
    "            restructure_set(csv, f, 'DR')"
   ]
  }
 ],
 "metadata": {
  "kernelspec": {
   "display_name": "tesisDL",
   "language": "python",
   "name": "python3"
  },
  "language_info": {
   "codemirror_mode": {
    "name": "ipython",
    "version": 3
   },
   "file_extension": ".py",
   "mimetype": "text/x-python",
   "name": "python",
   "nbconvert_exporter": "python",
   "pygments_lexer": "ipython3",
   "version": "3.10.8 | packaged by conda-forge | (main, Nov 22 2022, 08:26:04) [GCC 10.4.0]"
  },
  "orig_nbformat": 4,
  "vscode": {
   "interpreter": {
    "hash": "66e04bfc85808da2e18bbbef2b64a6be2d087de19c3aa024c126ff1bcb5631ba"
   }
  }
 },
 "nbformat": 4,
 "nbformat_minor": 2
}
