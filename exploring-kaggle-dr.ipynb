{
 "cells": [
  {
   "cell_type": "markdown",
   "metadata": {},
   "source": [
    "## Kaggle Diabetic Retinopathy Classification"
   ]
  },
  {
   "attachments": {},
   "cell_type": "markdown",
   "metadata": {},
   "source": [
    "### Train labels"
   ]
  },
  {
   "cell_type": "markdown",
   "metadata": {},
   "source": [
    " Load the dataset"
   ]
  },
  {
   "cell_type": "code",
   "execution_count": 1,
   "metadata": {},
   "outputs": [],
   "source": [
    "from sklearn.model_selection import train_test_split\n",
    "\n",
    "import matplotlib.pyplot as plt\n",
    "import pandas as pd\n",
    "import progressbar\n",
    "import os"
   ]
  },
  {
   "cell_type": "code",
   "execution_count": 2,
   "metadata": {},
   "outputs": [
    {
     "data": {
      "text/html": [
       "<div>\n",
       "<style scoped>\n",
       "    .dataframe tbody tr th:only-of-type {\n",
       "        vertical-align: middle;\n",
       "    }\n",
       "\n",
       "    .dataframe tbody tr th {\n",
       "        vertical-align: top;\n",
       "    }\n",
       "\n",
       "    .dataframe thead th {\n",
       "        text-align: right;\n",
       "    }\n",
       "</style>\n",
       "<table border=\"1\" class=\"dataframe\">\n",
       "  <thead>\n",
       "    <tr style=\"text-align: right;\">\n",
       "      <th></th>\n",
       "      <th>index</th>\n",
       "      <th>image</th>\n",
       "      <th>level</th>\n",
       "    </tr>\n",
       "  </thead>\n",
       "  <tbody>\n",
       "    <tr>\n",
       "      <th>0</th>\n",
       "      <td>0</td>\n",
       "      <td>31319_left</td>\n",
       "      <td>0</td>\n",
       "    </tr>\n",
       "    <tr>\n",
       "      <th>1</th>\n",
       "      <td>1</td>\n",
       "      <td>4550_left</td>\n",
       "      <td>0</td>\n",
       "    </tr>\n",
       "    <tr>\n",
       "      <th>2</th>\n",
       "      <td>2</td>\n",
       "      <td>14630_left</td>\n",
       "      <td>0</td>\n",
       "    </tr>\n",
       "    <tr>\n",
       "      <th>3</th>\n",
       "      <td>3</td>\n",
       "      <td>25111_left</td>\n",
       "      <td>0</td>\n",
       "    </tr>\n",
       "    <tr>\n",
       "      <th>4</th>\n",
       "      <td>4</td>\n",
       "      <td>21675_right</td>\n",
       "      <td>0</td>\n",
       "    </tr>\n",
       "  </tbody>\n",
       "</table>\n",
       "</div>"
      ],
      "text/plain": [
       "   index        image  level\n",
       "0      0   31319_left      0\n",
       "1      1    4550_left      0\n",
       "2      2   14630_left      0\n",
       "3      3   25111_left      0\n",
       "4      4  21675_right      0"
      ]
     },
     "execution_count": 2,
     "metadata": {},
     "output_type": "execute_result"
    }
   ],
   "source": [
    "DS_BASE_PATH = './Data/Raw/DrClassification/KaggleDrDetection'\n",
    "\n",
    "IMG_PATH = os.path.sep.join([DS_BASE_PATH, 'resized_train','resized_train'])\n",
    "csv_path = os.path.sep.join([DS_BASE_PATH,'trainLabels_balanced.csv'])\n",
    "\n",
    "dataset = pd.read_csv(csv_path)\n",
    "dataset.head()"
   ]
  },
  {
   "cell_type": "code",
   "execution_count": 3,
   "metadata": {},
   "outputs": [
    {
     "data": {
      "text/plain": [
       "Index(['index', 'image', 'level'], dtype='object')"
      ]
     },
     "metadata": {},
     "output_type": "display_data"
    },
    {
     "data": {
      "text/html": [
       "<div>\n",
       "<style scoped>\n",
       "    .dataframe tbody tr th:only-of-type {\n",
       "        vertical-align: middle;\n",
       "    }\n",
       "\n",
       "    .dataframe tbody tr th {\n",
       "        vertical-align: top;\n",
       "    }\n",
       "\n",
       "    .dataframe thead th {\n",
       "        text-align: right;\n",
       "    }\n",
       "</style>\n",
       "<table border=\"1\" class=\"dataframe\">\n",
       "  <thead>\n",
       "    <tr style=\"text-align: right;\">\n",
       "      <th></th>\n",
       "      <th>image</th>\n",
       "      <th>level</th>\n",
       "    </tr>\n",
       "  </thead>\n",
       "  <tbody>\n",
       "    <tr>\n",
       "      <th>0</th>\n",
       "      <td>31319_left</td>\n",
       "      <td>0</td>\n",
       "    </tr>\n",
       "    <tr>\n",
       "      <th>1</th>\n",
       "      <td>4550_left</td>\n",
       "      <td>0</td>\n",
       "    </tr>\n",
       "    <tr>\n",
       "      <th>2</th>\n",
       "      <td>14630_left</td>\n",
       "      <td>0</td>\n",
       "    </tr>\n",
       "    <tr>\n",
       "      <th>3</th>\n",
       "      <td>25111_left</td>\n",
       "      <td>0</td>\n",
       "    </tr>\n",
       "    <tr>\n",
       "      <th>4</th>\n",
       "      <td>21675_right</td>\n",
       "      <td>0</td>\n",
       "    </tr>\n",
       "  </tbody>\n",
       "</table>\n",
       "</div>"
      ],
      "text/plain": [
       "         image  level\n",
       "0   31319_left      0\n",
       "1    4550_left      0\n",
       "2   14630_left      0\n",
       "3   25111_left      0\n",
       "4  21675_right      0"
      ]
     },
     "execution_count": 3,
     "metadata": {},
     "output_type": "execute_result"
    }
   ],
   "source": [
    "dataset.dropna(axis=1, inplace=True)\n",
    "display(dataset.columns)\n",
    "dataset.drop(columns='index', inplace=True)\n",
    "dataset.head()"
   ]
  },
  {
   "cell_type": "code",
   "execution_count": 4,
   "metadata": {},
   "outputs": [
    {
     "data": {
      "text/plain": [
       "level\n",
       "0    708\n",
       "1    708\n",
       "2    708\n",
       "3    708\n",
       "4    708\n",
       "Name: image, dtype: int64"
      ]
     },
     "metadata": {},
     "output_type": "display_data"
    },
    {
     "data": {
      "image/png": "[encoded data removed]",
      "text/plain": [
       "<Figure size 640x480 with 1 Axes>"
      ]
     },
     "metadata": {},
     "output_type": "display_data"
    }
   ],
   "source": [
    "display(dataset.groupby('level')['image'].count())\n",
    "\n",
    "plt.pie([dataset.loc[dataset['level'] == n].count()[0] for n in range(5)], labels = range(5), autopct='%.2f %%')\n",
    "plt.title(\"Levels of DR in the dataset\")\n",
    "plt.show()"
   ]
  },
  {
   "cell_type": "code",
   "execution_count": 5,
   "metadata": {},
   "outputs": [],
   "source": [
    "x_train, x_remain, y_train, y_remain = train_test_split(\n",
    "    dataset['image'],\n",
    "    dataset['level'],\n",
    "    train_size=0.8,\n",
    "    test_size=0.2,\n",
    "    random_state=42\n",
    ")"
   ]
  },
  {
   "cell_type": "code",
   "execution_count": 6,
   "metadata": {},
   "outputs": [],
   "source": [
    "train_df = pd.DataFrame()\n",
    "train_df['image'] = x_train\n",
    "train_df['level'] = y_train"
   ]
  },
  {
   "cell_type": "code",
   "execution_count": 7,
   "metadata": {},
   "outputs": [],
   "source": [
    "remain_df = pd.DataFrame()\n",
    "remain_df['image'] = x_remain\n",
    "remain_df['level'] = y_remain"
   ]
  },
  {
   "cell_type": "code",
   "execution_count": 8,
   "metadata": {},
   "outputs": [],
   "source": [
    "x_val, x_test, y_val, y_test = train_test_split(\n",
    "    dataset['image'],\n",
    "    dataset['level'],\n",
    "    train_size=0.5,\n",
    "    test_size=0.5,\n",
    "    random_state=42\n",
    ")"
   ]
  },
  {
   "cell_type": "code",
   "execution_count": 9,
   "metadata": {},
   "outputs": [],
   "source": [
    "val_df = pd.DataFrame()\n",
    "val_df['image'] = x_val\n",
    "val_df['level'] = y_val"
   ]
  },
  {
   "cell_type": "code",
   "execution_count": 10,
   "metadata": {},
   "outputs": [],
   "source": [
    "test_df = pd.DataFrame()\n",
    "test_df['image'] = x_test\n",
    "test_df['level'] = y_test"
   ]
  },
  {
   "cell_type": "code",
   "execution_count": 11,
   "metadata": {},
   "outputs": [
    {
     "data": {
      "text/plain": [
       "level\n",
       "0    540\n",
       "1    575\n",
       "2    562\n",
       "3    574\n",
       "4    581\n",
       "Name: image, dtype: int64"
      ]
     },
     "metadata": {},
     "output_type": "display_data"
    },
    {
     "data": {
      "image/png": "[encoded data removed]",
      "text/plain": [
       "<Figure size 640x480 with 1 Axes>"
      ]
     },
     "metadata": {},
     "output_type": "display_data"
    },
    {
     "data": {
      "text/html": [
       "<div>\n",
       "<style scoped>\n",
       "    .dataframe tbody tr th:only-of-type {\n",
       "        vertical-align: middle;\n",
       "    }\n",
       "\n",
       "    .dataframe tbody tr th {\n",
       "        vertical-align: top;\n",
       "    }\n",
       "\n",
       "    .dataframe thead th {\n",
       "        text-align: right;\n",
       "    }\n",
       "</style>\n",
       "<table border=\"1\" class=\"dataframe\">\n",
       "  <thead>\n",
       "    <tr style=\"text-align: right;\">\n",
       "      <th></th>\n",
       "      <th>image</th>\n",
       "      <th>level</th>\n",
       "    </tr>\n",
       "  </thead>\n",
       "  <tbody>\n",
       "    <tr>\n",
       "      <th>532</th>\n",
       "      <td>33650_left</td>\n",
       "      <td>0</td>\n",
       "    </tr>\n",
       "    <tr>\n",
       "      <th>3386</th>\n",
       "      <td>38513_right</td>\n",
       "      <td>4</td>\n",
       "    </tr>\n",
       "    <tr>\n",
       "      <th>2163</th>\n",
       "      <td>22679_right</td>\n",
       "      <td>3</td>\n",
       "    </tr>\n",
       "    <tr>\n",
       "      <th>1813</th>\n",
       "      <td>36854_right</td>\n",
       "      <td>2</td>\n",
       "    </tr>\n",
       "    <tr>\n",
       "      <th>842</th>\n",
       "      <td>24402_left</td>\n",
       "      <td>1</td>\n",
       "    </tr>\n",
       "  </tbody>\n",
       "</table>\n",
       "</div>"
      ],
      "text/plain": [
       "            image  level\n",
       "532    33650_left      0\n",
       "3386  38513_right      4\n",
       "2163  22679_right      3\n",
       "1813  36854_right      2\n",
       "842    24402_left      1"
      ]
     },
     "execution_count": 11,
     "metadata": {},
     "output_type": "execute_result"
    }
   ],
   "source": [
    "display(train_df.groupby(['level'])['image'].count())\n",
    "plt.pie([train_df.loc[train_df['level'] == n].count()[0] for n in range(5)], labels = range(5), autopct='%.2f %%')\n",
    "plt.title(\"Levels of DR in the train_df\")\n",
    "plt.show()\n",
    "train_df.head()"
   ]
  },
  {
   "cell_type": "code",
   "execution_count": 12,
   "metadata": {},
   "outputs": [],
   "source": [
    "def reset_path(directory:str):\n",
    "    \"\"\"\n",
    "    Deletes an existing directory and re-creates it\n",
    "\n",
    "    - directory: path to directory\n",
    "    \"\"\"\n",
    "    if os.path.exists(directory):\n",
    "        !rm -r {directory}\n",
    "    os.mkdir(directory)\n",
    "\n",
    "def create_path(base_dir:str, dir_name:str):\n",
    "    directory = os.path.sep.join([base_dir, dir_name])\n",
    "    \"\"\"\n",
    "    Creates a new directory if it doesn't exist already\n",
    "\n",
    "    - dir_name: path to directory\n",
    "    \"\"\"\n",
    "    if not os.path.exists(directory):\n",
    "        os.mkdir(directory)\n",
    "    else:\n",
    "        print(f'[INFO] {directory} already exists')\n",
    "    \n",
    "    return directory\n",
    "\n",
    "def organize_set_imgs(df: pd.DataFrame, set_path:str):\n",
    "\n",
    "    # images divided by class dir\n",
    "    class_directories = {str(k):list(df['image'].loc[df['level'] == k]) for k in range(4)}\n",
    "    # display(class_directories)\n",
    "\n",
    "    for k,imgs in class_directories.items():\n",
    "        class_dir = create_path(set_path, k)\n",
    "\n",
    "        widgets = [\n",
    "            f'Building {set_path.split(os.path.sep)[-1]}/{k}:',\n",
    "            ' ',\n",
    "            progressbar.Percentage(),\n",
    "            ' ',\n",
    "            progressbar.Bar(),\n",
    "            ' ',\n",
    "            progressbar.Counter()\n",
    "        ]\n",
    "\n",
    "        pbar = progressbar.ProgressBar(widgets=widgets, maxval=len(imgs))\n",
    "        \n",
    "        pbar.start()\n",
    "\n",
    "        for i, img in enumerate(imgs):\n",
    "            im_origin = os.path.sep.join([IMG_PATH, f'{img}.jpeg'])\n",
    "\n",
    "            !cp {im_origin} {class_dir}\n",
    "\n",
    "            pbar.update(i)\n",
    "        \n",
    "    pbar.finish()\n"
   ]
  },
  {
   "cell_type": "code",
   "execution_count": 13,
   "metadata": {},
   "outputs": [
    {
     "name": "stderr",
     "output_type": "stream",
     "text": [
      "Building Train/3: 100% |##################################################| 574\n",
      "Building Val/3: 100% |####################################################| 354\n",
      "Building Test/3: 100% |###################################################| 354\n"
     ]
    }
   ],
   "source": [
    "DB_PATH = './DB'\n",
    "\n",
    "reset_path(DB_PATH)\n",
    "\n",
    "train_path = create_path(DB_PATH, 'Train')\n",
    "organize_set_imgs(train_df, train_path)\n",
    "\n",
    "val_path = create_path(DB_PATH, 'Val')\n",
    "organize_set_imgs(val_df, val_path)\n",
    "\n",
    "test_path = create_path(DB_PATH, 'Test')\n",
    "organize_set_imgs(test_df, test_path)"
   ]
  }
 ],
 "metadata": {
  "kernelspec": {
   "display_name": "tesisDL",
   "language": "python",
   "name": "python3"
  },
  "language_info": {
   "codemirror_mode": {
    "name": "ipython",
    "version": 3
   },
   "file_extension": ".py",
   "mimetype": "text/x-python",
   "name": "python",
   "nbconvert_exporter": "python",
   "pygments_lexer": "ipython3",
   "version": "3.10.8"
  },
  "orig_nbformat": 4,
  "vscode": {
   "interpreter": {
    "hash": "66e04bfc85808da2e18bbbef2b64a6be2d087de19c3aa024c126ff1bcb5631ba"
   }
  }
 },
 "nbformat": 4,
 "nbformat_minor": 2
}
