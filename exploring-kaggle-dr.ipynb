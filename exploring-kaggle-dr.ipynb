{
 "cells": [
  {
   "cell_type": "markdown",
   "metadata": {},
   "source": [
    "## Kaggle Diabetic Retinopathy Classification"
   ]
  },
  {
   "attachments": {},
   "cell_type": "markdown",
   "metadata": {},
   "source": [
    "### Train labels"
   ]
  },
  {
   "attachments": {},
   "cell_type": "markdown",
   "metadata": {},
   "source": [
    " Loading the dataset"
   ]
  },
  {
   "cell_type": "code",
   "execution_count": null,
   "metadata": {},
   "outputs": [],
   "source": [
    "from sklearn.model_selection import train_test_split\n",
    "from shutil import copy\n",
    "\n",
    "import matplotlib.pyplot as plt\n",
    "import pandas as pd\n",
    "import progressbar\n",
    "import os"
   ]
  },
  {
   "cell_type": "code",
   "execution_count": null,
   "metadata": {},
   "outputs": [],
   "source": [
    "def reset_path(directory:str):\n",
    "    \"\"\"\n",
    "    Deletes an existing directory and re-creates it\n",
    "\n",
    "    - directory: path to directory\n",
    "    \"\"\"\n",
    "    if os.path.exists(directory):\n",
    "        !rm -r {directory}\n",
    "    os.mkdir(directory)"
   ]
  },
  {
   "cell_type": "code",
   "execution_count": null,
   "metadata": {},
   "outputs": [],
   "source": [
    "DS_BASE_PATH = './Data'\n",
    "DB_PATH = './DB'\n",
    "reset_path(DB_PATH)\n",
    "\n",
    "IMG_PATH = os.path.sep.join([DS_BASE_PATH, 'resized_train'])\n",
    "csv_path = os.path.sep.join([DS_BASE_PATH,'trainLabels.csv'])\n",
    "\n",
    "orig_ds = pd.read_csv(csv_path)\n",
    "orig_ds"
   ]
  },
  {
   "cell_type": "code",
   "execution_count": null,
   "metadata": {},
   "outputs": [],
   "source": [
    "display(orig_ds.groupby('level')['image'].count())\n",
    "\n",
    "dfp = orig_ds.pivot_table(\n",
    "    index='level',\n",
    "    aggfunc='size'\n",
    ")\n",
    "dfp.plot(\n",
    "    kind='bar',\n",
    "    figsize=(5,3),\n",
    "    rot=0\n",
    ")\n",
    "plt.show()\n",
    "\n",
    "classes = 5\n",
    "plt.pie([orig_ds.loc[orig_ds['level'] == n].count()[0] for n in range(classes)], labels = range(classes), autopct='%.2f %%')\n",
    "plt.title(\"Levels of DR in the original dataset\")\n",
    "img_path = os.path.sep.join([DB_PATH, 'distribution.png'])\n",
    "plt.savefig(img_path)\n",
    "plt.show()"
   ]
  },
  {
   "cell_type": "code",
   "execution_count": null,
   "metadata": {},
   "outputs": [],
   "source": [
    "dataset = orig_ds.groupby(['level']).sample(700)\n",
    "display(dataset.groupby('level')['image'].count())\n",
    "\n",
    "plt.pie([dataset.loc[dataset['level'] == n].count()[0] for n in range(classes)], labels = range(classes), autopct='%.2f %%')\n",
    "plt.title(\"Levels of DR in the redistributed dataset\")\n",
    "plt.show()\n",
    "\n",
    "rest_df = orig_ds.loc[~orig_ds['image'].isin(dataset['image'])].dropna()\n",
    "\n",
    "display(rest_df.groupby('level')['image'].count())"
   ]
  },
  {
   "cell_type": "code",
   "execution_count": null,
   "metadata": {},
   "outputs": [],
   "source": [
    "x_train, x_remain, y_train, y_remain = train_test_split(\n",
    "    dataset['image'],\n",
    "    dataset['level'],\n",
    "    train_size=0.7,\n",
    "    test_size=0.3,\n",
    "    random_state=42\n",
    ")"
   ]
  },
  {
   "cell_type": "code",
   "execution_count": null,
   "metadata": {},
   "outputs": [],
   "source": [
    "train_df = pd.DataFrame()\n",
    "train_df['image'] = x_train\n",
    "train_df['level'] = y_train"
   ]
  },
  {
   "cell_type": "code",
   "execution_count": null,
   "metadata": {},
   "outputs": [],
   "source": [
    "remain_df = pd.DataFrame()\n",
    "remain_df['image'] = x_remain\n",
    "remain_df['level'] = y_remain"
   ]
  },
  {
   "cell_type": "code",
   "execution_count": null,
   "metadata": {},
   "outputs": [],
   "source": [
    "x_val, x_test, y_val, y_test = train_test_split(\n",
    "    remain_df['image'],\n",
    "    remain_df['level'],\n",
    "    train_size=0.5,\n",
    "    test_size=0.5,\n",
    "    random_state=42\n",
    ")"
   ]
  },
  {
   "cell_type": "code",
   "execution_count": null,
   "metadata": {},
   "outputs": [],
   "source": [
    "val_df = pd.DataFrame()\n",
    "val_df['image'] = x_val\n",
    "val_df['level'] = y_val"
   ]
  },
  {
   "cell_type": "code",
   "execution_count": null,
   "metadata": {},
   "outputs": [],
   "source": [
    "test_df = pd.DataFrame()\n",
    "test_df['image'] = x_test\n",
    "test_df['level'] = y_test"
   ]
  },
  {
   "cell_type": "code",
   "execution_count": null,
   "metadata": {},
   "outputs": [],
   "source": [
    "display(train_df.groupby(['level'])['image'].count())\n",
    "# plt.pie([train_df.loc[train_df['level'] == n].count()[0] for n in range(classes)], labels = range(classes), autopct='%.2f %%')\n",
    "# plt.title(\"Levels of DR in the train_df\")\n",
    "# img_path = os.path.sep.join([DB_PATH, 'train_dist.png'])\n",
    "# plt.savefig(img_path)\n",
    "# plt.show()\n",
    "train_df.head()"
   ]
  },
  {
   "cell_type": "code",
   "execution_count": null,
   "metadata": {},
   "outputs": [],
   "source": [
    "display(val_df.groupby(['level'])['image'].count())\n",
    "# plt.pie([val_df.loc[val_df['level'] == n].count()[0] for n in range(classes)], labels = range(classes), autopct='%.2f %%')\n",
    "# plt.title(\"Levels of DR in the val_df\")\n",
    "# img_path = os.path.sep.join([DB_PATH, 'val_dist.png'])\n",
    "# plt.savefig(img_path)\n",
    "# plt.show()\n",
    "val_df.head()"
   ]
  },
  {
   "cell_type": "code",
   "execution_count": null,
   "metadata": {},
   "outputs": [],
   "source": [
    "display(test_df.groupby(['level'])['image'].count())\n",
    "# plt.pie([test_df.loc[test_df['level'] == n].count()[0] for n in range(classes)], labels = range(classes), autopct='%.2f %%')\n",
    "# plt.title(\"Levels of DR in the test_df\")\n",
    "# img_path = os.path.sep.join([DB_PATH, 'test_dist.png'])\n",
    "# plt.savefig(img_path)\n",
    "# plt.show()\n",
    "test_df.head()"
   ]
  },
  {
   "cell_type": "code",
   "execution_count": null,
   "metadata": {},
   "outputs": [],
   "source": [
    "def create_path(base_dir:str, dir_name:str):\n",
    "    directory = os.path.sep.join([base_dir, dir_name])\n",
    "    \"\"\"\n",
    "    Creates a new directory if it doesn't exist already\n",
    "\n",
    "    - dir_name: path to directory\n",
    "    \"\"\"\n",
    "    if not os.path.exists(directory):\n",
    "        os.mkdir(directory)\n",
    "    else:\n",
    "        print(f'[INFO] {directory} already exists')\n",
    "    \n",
    "    return directory\n",
    "\n",
    "def display_df_dist(df: pd.DataFrame, df_name:str):\n",
    "    dfp = df.pivot_table(\n",
    "        index='level',\n",
    "        aggfunc='size'\n",
    "    )\n",
    "    dfp.plot(\n",
    "        kind='bar',\n",
    "        figsize=(5,3),\n",
    "        rot=0\n",
    "    )\n",
    "    plt.title(f\"Levels of DR in the {df_name} dataset\")\n",
    "    plt.savefig(os.path.sep.join(['DB', f'{df_name}.png']))\n",
    "    plt.show()\n",
    "    df.head()\n",
    "\n",
    "def organize_set_imgs(df: pd.DataFrame, set_path:str):\n",
    "\n",
    "    # images divided by class dir\n",
    "    class_directories = {str(k):list(df['image'].loc[df['level'] == k]) for k in range(classes)}\n",
    "    # display(class_directories)\n",
    "\n",
    "    for k,imgs in class_directories.items():\n",
    "        class_dir = create_path(set_path, k)\n",
    "\n",
    "        widgets = [\n",
    "            f'Building {set_path.split(os.path.sep)[-1]}/{k}:',\n",
    "            ' ',\n",
    "            progressbar.Percentage(),\n",
    "            ' ',\n",
    "            progressbar.Bar(),\n",
    "            ' ',\n",
    "            progressbar.Counter()\n",
    "        ]\n",
    "\n",
    "        pbar = progressbar.ProgressBar(widgets=widgets, maxval=len(imgs))\n",
    "        \n",
    "        pbar.start()\n",
    "\n",
    "        for i, img in enumerate(imgs):\n",
    "            im_origin = os.path.sep.join([IMG_PATH, f'{img}.jpeg'])\n",
    "\n",
    "            copy(im_origin, class_dir)\n",
    "\n",
    "            pbar.update(i)\n",
    "        \n",
    "    pbar.finish()\n"
   ]
  },
  {
   "cell_type": "code",
   "execution_count": null,
   "metadata": {},
   "outputs": [],
   "source": [
    "data = [\n",
    "    (train_df, 'Train'),\n",
    "    (val_df, 'Val'),\n",
    "    (test_df, 'Test'),\n",
    "    (rest_df, 'Rest'),\n",
    "]\n",
    "\n",
    "for df, subset in data:\n",
    "    ds_path = create_path(DB_PATH, subset)\n",
    "    display_df_dist(df,  subset)\n",
    "    organize_set_imgs(df, ds_path)"
   ]
  }
 ],
 "metadata": {
  "kernelspec": {
   "display_name": "base",
   "language": "python",
   "name": "python3"
  },
  "language_info": {
   "codemirror_mode": {
    "name": "ipython",
    "version": 3
   },
   "file_extension": ".py",
   "mimetype": "text/x-python",
   "name": "python",
   "nbconvert_exporter": "python",
   "pygments_lexer": "ipython3",
   "version": "3.9.13"
  },
  "orig_nbformat": 4,
  "vscode": {
   "interpreter": {
    "hash": "71d464e3e35be70104864c681be483f6183875546e2199e407c29c4c8fd67fae"
   }
  }
 },
 "nbformat": 4,
 "nbformat_minor": 2
}
