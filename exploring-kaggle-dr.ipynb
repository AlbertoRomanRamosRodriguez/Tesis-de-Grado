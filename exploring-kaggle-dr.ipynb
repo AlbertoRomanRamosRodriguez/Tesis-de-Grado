{
 "cells": [
  {
   "cell_type": "markdown",
   "metadata": {},
   "source": [
    "## Kaggle Diabetic Retinopathy Classification"
   ]
  },
  {
   "cell_type": "markdown",
   "metadata": {},
   "source": [
    "### Cropped train labels"
   ]
  },
  {
   "cell_type": "markdown",
   "metadata": {},
   "source": [
    " Load the dataset"
   ]
  },
  {
   "cell_type": "code",
   "execution_count": null,
   "metadata": {},
   "outputs": [],
   "source": [
    "df = pd.read_csv('./Daniel-files/PracticasProfesionales/Data/Raw/DrClassification/KaggleDrDetection/trainLabels_cropped.csv')\n",
    "\n",
    "df = df.drop(columns=['Unnamed: 0.1', 'Unnamed: 0'])\n",
    "display(df.groupby('level').count())\n",
    "\n",
    "plt.pie([df.loc[df['level'] == n].count()[0] for n in range(5)], labels = range(5), autopct='%.2f %%')\n",
    "plt.title(\"Levels of DR in the dataset\")"
   ]
  },
  {
   "cell_type": "markdown",
   "metadata": {},
   "source": [
    "Undersampling to balance the dataset"
   ]
  },
  {
   "cell_type": "code",
   "execution_count": null,
   "metadata": {},
   "outputs": [],
   "source": [
    "balanced_df = df.groupby('level').sample(708)\n",
    "\n",
    "balanced_df.reset_index(drop=True, inplace=True)\n",
    "\n",
    "display(balanced_df.groupby('level').count())\n",
    "\n",
    "plt.pie([balanced_df.loc[balanced_df['level'] == n].count()[0] for n in range(5)], labels = range(5), autopct='%.2f %%')\n",
    "plt.title(\"Levels of DR in the dataset\")\n",
    "\n"
   ]
  },
  {
   "cell_type": "code",
   "execution_count": null,
   "metadata": {},
   "outputs": [],
   "source": [
    "balanced_df.to_csv('./Daniel-files/PracticasProfesionales/Data/Raw/DrClassification/KaggleDrDetection/trainLabels_cropped_balanced.csv', index_label='index')"
   ]
  },
  {
   "cell_type": "markdown",
   "metadata": {},
   "source": [
    "### Train labels"
   ]
  },
  {
   "cell_type": "markdown",
   "metadata": {},
   "source": [
    "Load the dataset"
   ]
  },
  {
   "cell_type": "code",
   "execution_count": null,
   "metadata": {},
   "outputs": [],
   "source": [
    "df = pd.read_csv('./Daniel-files/PracticasProfesionales/Data/Raw/DrClassification/KaggleDrDetection/trainLabels.csv')\n",
    "\n",
    "display(df.groupby('level').count())\n",
    "\n",
    "plt.pie([df.loc[df['level'] == n].count()[0] for n in range(5)], labels = range(5), autopct='%.2f %%')\n",
    "plt.title(\"Levels of DR in the dataset\")"
   ]
  },
  {
   "cell_type": "markdown",
   "metadata": {},
   "source": [
    "Undersampling to balance the dataset"
   ]
  },
  {
   "cell_type": "code",
   "execution_count": null,
   "metadata": {},
   "outputs": [],
   "source": [
    "balanced_df = df.groupby('level').sample(708)\n",
    "\n",
    "balanced_df.reset_index(drop=True, inplace=True)\n",
    "\n",
    "display(balanced_df.groupby('level').count())\n",
    "\n",
    "plt.pie([balanced_df.loc[balanced_df['level'] == n].count()[0] for n in range(5)], labels = range(5), autopct='%.2f %%')\n",
    "plt.title(\"Levels of DR in the dataset\")\n",
    "\n"
   ]
  },
  {
   "cell_type": "code",
   "execution_count": null,
   "metadata": {},
   "outputs": [],
   "source": [
    "balanced_df.to_csv('./Daniel-files/PracticasProfesionales/Data/Raw/DrClassification/KaggleDrDetection/trainLabels_balanced.csv', index_label='index')"
   ]
  }
 ],
 "metadata": {
  "language_info": {
   "name": "python"
  },
  "orig_nbformat": 4
 },
 "nbformat": 4,
 "nbformat_minor": 2
}
