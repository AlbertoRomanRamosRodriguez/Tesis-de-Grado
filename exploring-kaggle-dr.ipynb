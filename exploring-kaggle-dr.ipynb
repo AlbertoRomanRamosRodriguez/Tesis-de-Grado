{
 "cells": [
  {
   "cell_type": "markdown",
   "metadata": {},
   "source": [
    "## Kaggle Diabetic Retinopathy Classification"
   ]
  },
  {
   "attachments": {},
   "cell_type": "markdown",
   "metadata": {},
   "source": [
    "### Train labels"
   ]
  },
  {
   "attachments": {},
   "cell_type": "markdown",
   "metadata": {},
   "source": [
    " Loading the dataset"
   ]
  },
  {
   "cell_type": "code",
   "execution_count": 17,
   "metadata": {},
   "outputs": [],
   "source": [
    "from sklearn.model_selection import train_test_split\n",
    "from shutil import copy\n",
    "\n",
    "import matplotlib.pyplot as plt\n",
    "import pandas as pd\n",
    "import progressbar\n",
    "import cv2\n",
    "import os"
   ]
  },
  {
   "cell_type": "code",
   "execution_count": 18,
   "metadata": {},
   "outputs": [],
   "source": [
    "def reset_path(directory:str):\n",
    "    \"\"\"\n",
    "    Deletes an existing directory and re-creates it\n",
    "\n",
    "    - directory: path to directory\n",
    "    \"\"\"\n",
    "    if os.path.exists(directory):\n",
    "        !rm -r {directory}\n",
    "    os.mkdir(directory)"
   ]
  },
  {
   "cell_type": "code",
   "execution_count": 19,
   "metadata": {},
   "outputs": [
    {
     "name": "stdout",
     "output_type": "stream",
     "text": [
      "/bin/bash: /home/newton/anaconda3/envs/cujaface/lib/python3.11/site-packages/cv2/../../../../lib/libtinfo.so.6: no version information available (required by /bin/bash)\n"
     ]
    },
    {
     "data": {
      "text/html": [
       "<div>\n",
       "<style scoped>\n",
       "    .dataframe tbody tr th:only-of-type {\n",
       "        vertical-align: middle;\n",
       "    }\n",
       "\n",
       "    .dataframe tbody tr th {\n",
       "        vertical-align: top;\n",
       "    }\n",
       "\n",
       "    .dataframe thead th {\n",
       "        text-align: right;\n",
       "    }\n",
       "</style>\n",
       "<table border=\"1\" class=\"dataframe\">\n",
       "  <thead>\n",
       "    <tr style=\"text-align: right;\">\n",
       "      <th></th>\n",
       "      <th>image</th>\n",
       "      <th>level</th>\n",
       "    </tr>\n",
       "  </thead>\n",
       "  <tbody>\n",
       "    <tr>\n",
       "      <th>0</th>\n",
       "      <td>10_left</td>\n",
       "      <td>0</td>\n",
       "    </tr>\n",
       "    <tr>\n",
       "      <th>1</th>\n",
       "      <td>10_right</td>\n",
       "      <td>0</td>\n",
       "    </tr>\n",
       "    <tr>\n",
       "      <th>2</th>\n",
       "      <td>13_left</td>\n",
       "      <td>0</td>\n",
       "    </tr>\n",
       "    <tr>\n",
       "      <th>3</th>\n",
       "      <td>13_right</td>\n",
       "      <td>0</td>\n",
       "    </tr>\n",
       "    <tr>\n",
       "      <th>4</th>\n",
       "      <td>15_left</td>\n",
       "      <td>1</td>\n",
       "    </tr>\n",
       "    <tr>\n",
       "      <th>...</th>\n",
       "      <td>...</td>\n",
       "      <td>...</td>\n",
       "    </tr>\n",
       "    <tr>\n",
       "      <th>35121</th>\n",
       "      <td>44347_right</td>\n",
       "      <td>0</td>\n",
       "    </tr>\n",
       "    <tr>\n",
       "      <th>35122</th>\n",
       "      <td>44348_left</td>\n",
       "      <td>0</td>\n",
       "    </tr>\n",
       "    <tr>\n",
       "      <th>35123</th>\n",
       "      <td>44348_right</td>\n",
       "      <td>0</td>\n",
       "    </tr>\n",
       "    <tr>\n",
       "      <th>35124</th>\n",
       "      <td>44349_left</td>\n",
       "      <td>0</td>\n",
       "    </tr>\n",
       "    <tr>\n",
       "      <th>35125</th>\n",
       "      <td>44349_right</td>\n",
       "      <td>1</td>\n",
       "    </tr>\n",
       "  </tbody>\n",
       "</table>\n",
       "<p>35126 rows × 2 columns</p>\n",
       "</div>"
      ],
      "text/plain": [
       "             image  level\n",
       "0          10_left      0\n",
       "1         10_right      0\n",
       "2          13_left      0\n",
       "3         13_right      0\n",
       "4          15_left      1\n",
       "...            ...    ...\n",
       "35121  44347_right      0\n",
       "35122   44348_left      0\n",
       "35123  44348_right      0\n",
       "35124   44349_left      0\n",
       "35125  44349_right      1\n",
       "\n",
       "[35126 rows x 2 columns]"
      ]
     },
     "execution_count": 19,
     "metadata": {},
     "output_type": "execute_result"
    }
   ],
   "source": [
    "DS_BASE_PATH = './Data'\n",
    "DB_PATH = './DB'\n",
    "reset_path(DB_PATH)\n",
    "\n",
    "IMG_PATH = os.path.sep.join([DS_BASE_PATH, 'resized_train'])\n",
    "csv_path = os.path.sep.join([DS_BASE_PATH,'trainLabels.csv'])\n",
    "\n",
    "orig_ds = pd.read_csv(csv_path)\n",
    "orig_ds"
   ]
  },
  {
   "cell_type": "code",
   "execution_count": 20,
   "metadata": {},
   "outputs": [
    {
     "data": {
      "text/plain": [
       "level\n",
       "0    25810\n",
       "1     2443\n",
       "2     5292\n",
       "3      873\n",
       "4      708\n",
       "Name: image, dtype: int64"
      ]
     },
     "metadata": {},
     "output_type": "display_data"
    },
    {
     "data": {
      "image/png": "[encoded data removed]",
      "text/plain": [
       "<Figure size 500x300 with 1 Axes>"
      ]
     },
     "metadata": {},
     "output_type": "display_data"
    },
    {
     "data": {
      "image/png": "[encoded data removed]",
      "text/plain": [
       "<Figure size 640x480 with 1 Axes>"
      ]
     },
     "metadata": {},
     "output_type": "display_data"
    }
   ],
   "source": [
    "display(orig_ds.groupby('level')['image'].count())\n",
    "\n",
    "dfp = orig_ds.pivot_table(\n",
    "    index='level',\n",
    "    aggfunc='size'\n",
    ")\n",
    "dfp.plot(\n",
    "    kind='bar',\n",
    "    figsize=(5,3),\n",
    "    rot=0\n",
    ")\n",
    "plt.show()\n",
    "\n",
    "classes = 5\n",
    "plt.pie([orig_ds.loc[orig_ds['level'] == n].count()[0] for n in range(classes)], labels = range(classes), autopct='%.2f %%')\n",
    "plt.title(\"Levels of DR in the original dataset\")\n",
    "img_path = os.path.sep.join([DB_PATH, 'distribution.png'])\n",
    "plt.savefig(img_path)\n",
    "plt.show()"
   ]
  },
  {
   "cell_type": "code",
   "execution_count": 21,
   "metadata": {},
   "outputs": [
    {
     "data": {
      "text/plain": [
       "level\n",
       "0    700\n",
       "1    700\n",
       "2    700\n",
       "3    700\n",
       "4    700\n",
       "Name: image, dtype: int64"
      ]
     },
     "metadata": {},
     "output_type": "display_data"
    },
    {
     "data": {
      "image/png": "[encoded data removed]",
      "text/plain": [
       "<Figure size 640x480 with 1 Axes>"
      ]
     },
     "metadata": {},
     "output_type": "display_data"
    },
    {
     "data": {
      "text/plain": [
       "level\n",
       "0    25110\n",
       "1     1743\n",
       "2     4592\n",
       "3      173\n",
       "4        8\n",
       "Name: image, dtype: int64"
      ]
     },
     "metadata": {},
     "output_type": "display_data"
    }
   ],
   "source": [
    "dataset = orig_ds.groupby(['level']).sample(700)\n",
    "display(dataset.groupby('level')['image'].count())\n",
    "\n",
    "plt.pie([dataset.loc[dataset['level'] == n].count()[0] for n in range(classes)], labels = range(classes), autopct='%.2f %%')\n",
    "plt.title(\"Levels of DR in the redistributed dataset\")\n",
    "plt.show()\n",
    "\n",
    "rest_df = orig_ds.loc[~orig_ds['image'].isin(dataset['image'])].dropna()\n",
    "\n",
    "display(rest_df.groupby('level')['image'].count())"
   ]
  },
  {
   "cell_type": "code",
   "execution_count": 22,
   "metadata": {},
   "outputs": [],
   "source": [
    "x_train, x_remain, y_train, y_remain = train_test_split(\n",
    "    dataset['image'],\n",
    "    dataset['level'],\n",
    "    train_size=0.7,\n",
    "    test_size=0.3,\n",
    "    random_state=42\n",
    ")"
   ]
  },
  {
   "cell_type": "code",
   "execution_count": 23,
   "metadata": {},
   "outputs": [],
   "source": [
    "train_df = pd.DataFrame()\n",
    "train_df['image'] = x_train\n",
    "train_df['level'] = y_train"
   ]
  },
  {
   "cell_type": "code",
   "execution_count": 24,
   "metadata": {},
   "outputs": [],
   "source": [
    "remain_df = pd.DataFrame()\n",
    "remain_df['image'] = x_remain\n",
    "remain_df['level'] = y_remain"
   ]
  },
  {
   "cell_type": "code",
   "execution_count": 25,
   "metadata": {},
   "outputs": [],
   "source": [
    "x_val, x_test, y_val, y_test = train_test_split(\n",
    "    remain_df['image'],\n",
    "    remain_df['level'],\n",
    "    train_size=0.5,\n",
    "    test_size=0.5,\n",
    "    random_state=42\n",
    ")"
   ]
  },
  {
   "cell_type": "code",
   "execution_count": 26,
   "metadata": {},
   "outputs": [],
   "source": [
    "val_df = pd.DataFrame()\n",
    "val_df['image'] = x_val\n",
    "val_df['level'] = y_val"
   ]
  },
  {
   "cell_type": "code",
   "execution_count": 27,
   "metadata": {},
   "outputs": [],
   "source": [
    "test_df = pd.DataFrame()\n",
    "test_df['image'] = x_test\n",
    "test_df['level'] = y_test"
   ]
  },
  {
   "cell_type": "code",
   "execution_count": 28,
   "metadata": {},
   "outputs": [
    {
     "data": {
      "text/plain": [
       "level\n",
       "0    462\n",
       "1    495\n",
       "2    494\n",
       "3    512\n",
       "4    487\n",
       "Name: image, dtype: int64"
      ]
     },
     "metadata": {},
     "output_type": "display_data"
    },
    {
     "data": {
      "text/html": [
       "<div>\n",
       "<style scoped>\n",
       "    .dataframe tbody tr th:only-of-type {\n",
       "        vertical-align: middle;\n",
       "    }\n",
       "\n",
       "    .dataframe tbody tr th {\n",
       "        vertical-align: top;\n",
       "    }\n",
       "\n",
       "    .dataframe thead th {\n",
       "        text-align: right;\n",
       "    }\n",
       "</style>\n",
       "<table border=\"1\" class=\"dataframe\">\n",
       "  <thead>\n",
       "    <tr style=\"text-align: right;\">\n",
       "      <th></th>\n",
       "      <th>image</th>\n",
       "      <th>level</th>\n",
       "    </tr>\n",
       "  </thead>\n",
       "  <tbody>\n",
       "    <tr>\n",
       "      <th>17618</th>\n",
       "      <td>22160_left</td>\n",
       "      <td>3</td>\n",
       "    </tr>\n",
       "    <tr>\n",
       "      <th>26502</th>\n",
       "      <td>33561_left</td>\n",
       "      <td>0</td>\n",
       "    </tr>\n",
       "    <tr>\n",
       "      <th>14180</th>\n",
       "      <td>17805_left</td>\n",
       "      <td>1</td>\n",
       "    </tr>\n",
       "    <tr>\n",
       "      <th>7599</th>\n",
       "      <td>9586_right</td>\n",
       "      <td>2</td>\n",
       "    </tr>\n",
       "    <tr>\n",
       "      <th>13810</th>\n",
       "      <td>17331_left</td>\n",
       "      <td>2</td>\n",
       "    </tr>\n",
       "  </tbody>\n",
       "</table>\n",
       "</div>"
      ],
      "text/plain": [
       "            image  level\n",
       "17618  22160_left      3\n",
       "26502  33561_left      0\n",
       "14180  17805_left      1\n",
       "7599   9586_right      2\n",
       "13810  17331_left      2"
      ]
     },
     "execution_count": 28,
     "metadata": {},
     "output_type": "execute_result"
    }
   ],
   "source": [
    "display(train_df.groupby(['level'])['image'].count())\n",
    "# plt.pie([train_df.loc[train_df['level'] == n].count()[0] for n in range(classes)], labels = range(classes), autopct='%.2f %%')\n",
    "# plt.title(\"Levels of DR in the train_df\")\n",
    "# img_path = os.path.sep.join([DB_PATH, 'train_dist.png'])\n",
    "# plt.savefig(img_path)\n",
    "# plt.show()\n",
    "train_df.head()"
   ]
  },
  {
   "cell_type": "code",
   "execution_count": 29,
   "metadata": {},
   "outputs": [
    {
     "data": {
      "text/plain": [
       "level\n",
       "0    129\n",
       "1     96\n",
       "2    111\n",
       "3     94\n",
       "4     95\n",
       "Name: image, dtype: int64"
      ]
     },
     "metadata": {},
     "output_type": "display_data"
    },
    {
     "data": {
      "text/html": [
       "<div>\n",
       "<style scoped>\n",
       "    .dataframe tbody tr th:only-of-type {\n",
       "        vertical-align: middle;\n",
       "    }\n",
       "\n",
       "    .dataframe tbody tr th {\n",
       "        vertical-align: top;\n",
       "    }\n",
       "\n",
       "    .dataframe thead th {\n",
       "        text-align: right;\n",
       "    }\n",
       "</style>\n",
       "<table border=\"1\" class=\"dataframe\">\n",
       "  <thead>\n",
       "    <tr style=\"text-align: right;\">\n",
       "      <th></th>\n",
       "      <th>image</th>\n",
       "      <th>level</th>\n",
       "    </tr>\n",
       "  </thead>\n",
       "  <tbody>\n",
       "    <tr>\n",
       "      <th>69</th>\n",
       "      <td>70_right</td>\n",
       "      <td>0</td>\n",
       "    </tr>\n",
       "    <tr>\n",
       "      <th>29771</th>\n",
       "      <td>37647_right</td>\n",
       "      <td>1</td>\n",
       "    </tr>\n",
       "    <tr>\n",
       "      <th>26461</th>\n",
       "      <td>33493_right</td>\n",
       "      <td>4</td>\n",
       "    </tr>\n",
       "    <tr>\n",
       "      <th>30718</th>\n",
       "      <td>38833_left</td>\n",
       "      <td>1</td>\n",
       "    </tr>\n",
       "    <tr>\n",
       "      <th>17171</th>\n",
       "      <td>21558_right</td>\n",
       "      <td>3</td>\n",
       "    </tr>\n",
       "  </tbody>\n",
       "</table>\n",
       "</div>"
      ],
      "text/plain": [
       "             image  level\n",
       "69        70_right      0\n",
       "29771  37647_right      1\n",
       "26461  33493_right      4\n",
       "30718   38833_left      1\n",
       "17171  21558_right      3"
      ]
     },
     "execution_count": 29,
     "metadata": {},
     "output_type": "execute_result"
    }
   ],
   "source": [
    "display(val_df.groupby(['level'])['image'].count())\n",
    "# plt.pie([val_df.loc[val_df['level'] == n].count()[0] for n in range(classes)], labels = range(classes), autopct='%.2f %%')\n",
    "# plt.title(\"Levels of DR in the val_df\")\n",
    "# img_path = os.path.sep.join([DB_PATH, 'val_dist.png'])\n",
    "# plt.savefig(img_path)\n",
    "# plt.show()\n",
    "val_df.head()"
   ]
  },
  {
   "cell_type": "code",
   "execution_count": 30,
   "metadata": {},
   "outputs": [
    {
     "data": {
      "text/plain": [
       "level\n",
       "0    109\n",
       "1    109\n",
       "2     95\n",
       "3     94\n",
       "4    118\n",
       "Name: image, dtype: int64"
      ]
     },
     "metadata": {},
     "output_type": "display_data"
    },
    {
     "data": {
      "text/html": [
       "<div>\n",
       "<style scoped>\n",
       "    .dataframe tbody tr th:only-of-type {\n",
       "        vertical-align: middle;\n",
       "    }\n",
       "\n",
       "    .dataframe tbody tr th {\n",
       "        vertical-align: top;\n",
       "    }\n",
       "\n",
       "    .dataframe thead th {\n",
       "        text-align: right;\n",
       "    }\n",
       "</style>\n",
       "<table border=\"1\" class=\"dataframe\">\n",
       "  <thead>\n",
       "    <tr style=\"text-align: right;\">\n",
       "      <th></th>\n",
       "      <th>image</th>\n",
       "      <th>level</th>\n",
       "    </tr>\n",
       "  </thead>\n",
       "  <tbody>\n",
       "    <tr>\n",
       "      <th>35050</th>\n",
       "      <td>44253_left</td>\n",
       "      <td>0</td>\n",
       "    </tr>\n",
       "    <tr>\n",
       "      <th>34996</th>\n",
       "      <td>44200_left</td>\n",
       "      <td>3</td>\n",
       "    </tr>\n",
       "    <tr>\n",
       "      <th>34598</th>\n",
       "      <td>43732_left</td>\n",
       "      <td>2</td>\n",
       "    </tr>\n",
       "    <tr>\n",
       "      <th>15005</th>\n",
       "      <td>18798_right</td>\n",
       "      <td>2</td>\n",
       "    </tr>\n",
       "    <tr>\n",
       "      <th>8100</th>\n",
       "      <td>10156_left</td>\n",
       "      <td>2</td>\n",
       "    </tr>\n",
       "  </tbody>\n",
       "</table>\n",
       "</div>"
      ],
      "text/plain": [
       "             image  level\n",
       "35050   44253_left      0\n",
       "34996   44200_left      3\n",
       "34598   43732_left      2\n",
       "15005  18798_right      2\n",
       "8100    10156_left      2"
      ]
     },
     "execution_count": 30,
     "metadata": {},
     "output_type": "execute_result"
    }
   ],
   "source": [
    "display(test_df.groupby(['level'])['image'].count())\n",
    "# plt.pie([test_df.loc[test_df['level'] == n].count()[0] for n in range(classes)], labels = range(classes), autopct='%.2f %%')\n",
    "# plt.title(\"Levels of DR in the test_df\")\n",
    "# img_path = os.path.sep.join([DB_PATH, 'test_dist.png'])\n",
    "# plt.savefig(img_path)\n",
    "# plt.show()\n",
    "test_df.head()"
   ]
  },
  {
   "cell_type": "code",
   "execution_count": 33,
   "metadata": {},
   "outputs": [],
   "source": [
    "def clahe_image(path:str):\n",
    "    # Load the image\n",
    "    img = cv2.imread(path)\n",
    "    # mask = cv2.imread('mask.png', 0)\n",
    "\n",
    "    # Extract the green plane\n",
    "    green_plane = img[:, :, 1]\n",
    "\n",
    "    # Define the FA-CLAHE algorithm\n",
    "    faclahe = cv2.createCLAHE(clipLimit=5.0, tileGridSize=(8, 8))\n",
    "\n",
    "    # Apply the FA-CLAHE algorithm to the green plane\n",
    "    faclahe_img = faclahe.apply(green_plane)\n",
    "\n",
    "    # # # masked_img = cv2.bitwise_and(faclahe_img, faclahe_img, mask=mask)\n",
    "\n",
    "    cv2.imwrite(path, faclahe_img)\n",
    "\n",
    "def create_path(base_dir:str, dir_name:str):\n",
    "    directory = os.path.sep.join([base_dir, dir_name])\n",
    "    \"\"\"\n",
    "    Creates a new directory if it doesn't exist already\n",
    "\n",
    "    - dir_name: path to directory\n",
    "    \"\"\"\n",
    "    if not os.path.exists(directory):\n",
    "        os.mkdir(directory)\n",
    "    else:\n",
    "        print(f'[INFO] {directory} already exists')\n",
    "    \n",
    "    return directory\n",
    "\n",
    "def display_df_dist(df: pd.DataFrame, df_name:str):\n",
    "    dfp = df.pivot_table(\n",
    "        index='level',\n",
    "        aggfunc='size'\n",
    "    )\n",
    "    dfp.plot(\n",
    "        kind='bar',\n",
    "        figsize=(5,3),\n",
    "        rot=0\n",
    "    )\n",
    "    plt.title(f\"Levels of DR in the {df_name} dataset\")\n",
    "    plt.savefig(os.path.sep.join(['DB', f'{df_name}.png']))\n",
    "    plt.show()\n",
    "    df.head()\n",
    "\n",
    "def organize_set_imgs(df: pd.DataFrame, set_path:str):\n",
    "\n",
    "    # images divided by class dir\n",
    "    class_directories = {str(k):list(df['image'].loc[df['level'] == k]) for k in range(classes)}\n",
    "    # display(class_directories)\n",
    "\n",
    "    for k,imgs in class_directories.items():\n",
    "        class_dir = create_path(set_path, k)\n",
    "\n",
    "        widgets = [\n",
    "            f'Building {set_path.split(os.path.sep)[-1]}/{k}:',\n",
    "            ' ',\n",
    "            progressbar.Percentage(),\n",
    "            ' ',\n",
    "            progressbar.Bar(),\n",
    "            ' ',\n",
    "            progressbar.Counter()\n",
    "        ]\n",
    "\n",
    "        pbar = progressbar.ProgressBar(widgets=widgets, maxval=len(imgs))\n",
    "        \n",
    "        pbar.start()\n",
    "\n",
    "        for i, img in enumerate(imgs):\n",
    "            im_origin = os.path.sep.join([IMG_PATH, f'{img}.jpeg'])\n",
    "            copy(im_origin, class_dir)\n",
    "            im_path = os.path.join(class_dir,f'{img}.jpeg')\n",
    "            clahe_image(im_path)\n",
    "\n",
    "            pbar.update(i)\n",
    "        \n",
    "    pbar.finish()\n"
   ]
  },
  {
   "cell_type": "code",
   "execution_count": 34,
   "metadata": {},
   "outputs": [
    {
     "name": "stdout",
     "output_type": "stream",
     "text": [
      "[INFO] ./DB/Train already exists\n"
     ]
    },
    {
     "data": {
      "image/png": "[encoded data removed]",
      "text/plain": [
       "<Figure size 500x300 with 1 Axes>"
      ]
     },
     "metadata": {},
     "output_type": "display_data"
    },
    {
     "name": "stderr",
     "output_type": "stream",
     "text": [
      "Building Train/0:   0% |                                                    | 0\r"
     ]
    },
    {
     "name": "stdout",
     "output_type": "stream",
     "text": [
      "[INFO] ./DB/Train/0 already exists\n"
     ]
    },
    {
     "name": "stderr",
     "output_type": "stream",
     "text": [
      "Building Train/4: 100% |##################################################| 487\n"
     ]
    },
    {
     "data": {
      "image/png": "[encoded data removed]",
      "text/plain": [
       "<Figure size 500x300 with 1 Axes>"
      ]
     },
     "metadata": {},
     "output_type": "display_data"
    },
    {
     "name": "stderr",
     "output_type": "stream",
     "text": [
      "Building Val/4: 100% |#####################################################| 95\n"
     ]
    },
    {
     "data": {
      "image/png": "[encoded data removed]",
      "text/plain": [
       "<Figure size 500x300 with 1 Axes>"
      ]
     },
     "metadata": {},
     "output_type": "display_data"
    },
    {
     "name": "stderr",
     "output_type": "stream",
     "text": [
      "Building Test/4: 100% |###################################################| 118\n"
     ]
    },
    {
     "data": {
      "image/png": "[encoded data removed]",
      "text/plain": [
       "<Figure size 500x300 with 1 Axes>"
      ]
     },
     "metadata": {},
     "output_type": "display_data"
    },
    {
     "name": "stderr",
     "output_type": "stream",
     "text": [
      "Building Rest/4: 100% |#####################################################| 8\n"
     ]
    }
   ],
   "source": [
    "data = [\n",
    "    (train_df, 'Train'),\n",
    "    (val_df, 'Val'),\n",
    "    (test_df, 'Test'),\n",
    "    (rest_df, 'Rest'),\n",
    "]\n",
    "\n",
    "for df, subset in data:\n",
    "    ds_path = create_path(DB_PATH, subset)\n",
    "    display_df_dist(df,  subset)\n",
    "    organize_set_imgs(df, ds_path)"
   ]
  }
 ],
 "metadata": {
  "kernelspec": {
   "display_name": "base",
   "language": "python",
   "name": "python3"
  },
  "language_info": {
   "codemirror_mode": {
    "name": "ipython",
    "version": 3
   },
   "file_extension": ".py",
   "mimetype": "text/x-python",
   "name": "python",
   "nbconvert_exporter": "python",
   "pygments_lexer": "ipython3",
   "version": "3.11.2"
  },
  "orig_nbformat": 4,
  "vscode": {
   "interpreter": {
    "hash": "71d464e3e35be70104864c681be483f6183875546e2199e407c29c4c8fd67fae"
   }
  }
 },
 "nbformat": 4,
 "nbformat_minor": 2
}
